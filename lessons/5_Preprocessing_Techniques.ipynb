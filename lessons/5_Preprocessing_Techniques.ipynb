{
  "cells": [
    {
      "cell_type": "markdown",
      "metadata": {
        "id": "wW2HlCV0M6aw"
      },
      "source": [
        "<font size = +5> We will first import our dataset"
      ]
    },
    {
      "cell_type": "code",
      "execution_count": null,
      "metadata": {
        "id": "9T5GYDX-M6aw",
        "outputId": "23136231-3198-476f-b95d-745579877704"
      },
      "outputs": [
        {
          "name": "stdout",
          "output_type": "stream",
          "text": [
            "1204.83s - pydevd: Sending message related to process being replaced timed-out after 5 seconds\n",
            "Requirement already satisfied: kaggle in /Library/Frameworks/Python.framework/Versions/3.11/lib/python3.11/site-packages (1.5.13)\n",
            "Requirement already satisfied: six>=1.10 in /Library/Frameworks/Python.framework/Versions/3.11/lib/python3.11/site-packages (from kaggle) (1.16.0)\n",
            "Requirement already satisfied: certifi in /Library/Frameworks/Python.framework/Versions/3.11/lib/python3.11/site-packages (from kaggle) (2023.5.7)\n",
            "Requirement already satisfied: python-dateutil in /Library/Frameworks/Python.framework/Versions/3.11/lib/python3.11/site-packages (from kaggle) (2.8.2)\n",
            "Requirement already satisfied: requests in /Library/Frameworks/Python.framework/Versions/3.11/lib/python3.11/site-packages (from kaggle) (2.31.0)\n",
            "Requirement already satisfied: tqdm in /Library/Frameworks/Python.framework/Versions/3.11/lib/python3.11/site-packages (from kaggle) (4.65.0)\n",
            "Requirement already satisfied: python-slugify in /Library/Frameworks/Python.framework/Versions/3.11/lib/python3.11/site-packages (from kaggle) (8.0.1)\n",
            "Requirement already satisfied: urllib3 in /Library/Frameworks/Python.framework/Versions/3.11/lib/python3.11/site-packages (from kaggle) (2.0.2)\n",
            "Requirement already satisfied: text-unidecode>=1.3 in /Library/Frameworks/Python.framework/Versions/3.11/lib/python3.11/site-packages (from python-slugify->kaggle) (1.3)\n",
            "Requirement already satisfied: charset-normalizer<4,>=2 in /Library/Frameworks/Python.framework/Versions/3.11/lib/python3.11/site-packages (from requests->kaggle) (3.1.0)\n",
            "Requirement already satisfied: idna<4,>=2.5 in /Library/Frameworks/Python.framework/Versions/3.11/lib/python3.11/site-packages (from requests->kaggle) (3.4)\n",
            "Note: you may need to restart the kernel to use updated packages.\n"
          ]
        }
      ],
      "source": [
        "%pip install kaggle"
      ]
    },
    {
      "cell_type": "code",
      "execution_count": null,
      "metadata": {
        "id": "jToxL5zpM6ax",
        "outputId": "63106dc2-f9e2-472d-a663-b347e729fd63"
      },
      "outputs": [
        {
          "name": "stdout",
          "output_type": "stream",
          "text": [
            "1808.54s - pydevd: Sending message related to process being replaced timed-out after 5 seconds\n",
            "Warning: Your Kaggle API key is readable by other users on this system! To fix this, you can run 'chmod 600 /Users/jonathangong/.kaggle/kaggle.json'\n",
            "ref                                                             title                                              size  lastUpdated          downloadCount  voteCount  usabilityRating  \n",
            "--------------------------------------------------------------  ------------------------------------------------  -----  -------------------  -------------  ---------  ---------------  \n",
            "puneet6060/intel-image-classification                           Intel Image Classification                        346MB  2019-01-30 09:22:58          79672       1326  0.75             \n",
            "kkhandekar/image-dataset                                        Image_Dataset                                     171MB  2020-06-28 22:44:13            918         27  0.8125           \n",
            "utkarshsaxenadn/intel-image-classifier-resblockcustom-model     Intel Image Classifier - ResBlock(Custom Model)   279KB  2022-10-02 02:48:22             10          8  1.0              \n",
            "kutaykutlu/drowsiness-detection                                 Drowsiness Detection                              180MB  2021-02-14 19:06:50           1564         31  0.5625           \n",
            "ttagu99/sceneimage                                              SceneImage                                        107MB  2020-06-17 04:40:46             12          4  0.25             \n",
            "abhishektyagi001/vehicle-make-model-recognition-dataset-vmmrdb  Vehicle Make, Model Recognition Dataset (VMMRdb)  462MB  2020-09-23 03:26:00            277         10  0.4375           \n",
            "krishnakumarkk/pretrained-models-on-intel-image-classification  Pretrained Models on Intel Image Classification   487MB  2021-01-26 05:51:13             11          1  0.23529412       \n",
            "nepuerto/the-small-norb-dataset-v10                             THE small NORB DATASET, V1.0                      256MB  2018-01-04 15:50:09            417         12  0.5              \n",
            "gnornie/intel-image-classification-with-annotation              Intel Image Classification with annotation        347MB  2022-05-03 09:06:24              8          0  0.125            \n",
            "khaledelsayedibrahim/fishclassifyfinal                          fishclassifyfinal                                 595MB  2020-06-10 03:19:07             95          4  0.1875           \n",
            "huseynguliyev/landscape-classification                          Landscape Classification                          121MB  2020-05-09 05:56:29            289          6  0.125            \n",
            "khaledelsayedibrahim/imageclassifier                            imageclassifier                                   486MB  2020-05-19 21:59:33              3          1  0.1875           \n",
            "khaledelsayedibrahim/fishclassifierfinal                        fishclassifierfinal                               540MB  2020-06-08 23:33:50             51          1  0.1875           \n",
            "khaledelsayedibrahim/imageclassifierr                           imageclassifierr                                  385MB  2020-05-28 23:28:48              9          1  0.1875           \n",
            "khaledelsayedibrahim/lastversion                                lastversion                                       519MB  2020-05-30 04:06:35              4          1  0.1875           \n",
            "khaledelsayedibrahim/tmmmmmam                                   tmmmmmam                                          239MB  2020-06-11 07:06:56              2          1  0.1875           \n",
            "khaledelgamily/inputs                                           10 classes detection                               84MB  2022-09-15 20:53:18              4          0  0.125            \n",
            "chnhlquang/data-cay                                             DATA_CAY                                          443MB  2021-04-08 16:19:16              3          1  0.0              \n"
          ]
        }
      ],
      "source": [
        "!kaggle datasets list -s 'intel image classification'"
      ]
    },
    {
      "cell_type": "code",
      "execution_count": null,
      "metadata": {
        "id": "sqXieeVqM6ax",
        "outputId": "141881ba-128f-4a33-8576-afcefb6cdf50"
      },
      "outputs": [
        {
          "name": "stdout",
          "output_type": "stream",
          "text": [
            "2216.96s - pydevd: Sending message related to process being replaced timed-out after 5 seconds\n",
            "Warning: Your Kaggle API key is readable by other users on this system! To fix this, you can run 'chmod 600 /Users/jonathangong/.kaggle/kaggle.json'\n",
            "Downloading intel-image-classification.zip to /Users/jonathangong/Documents/Repositories/AI_club/lessons\n",
            "100%|███████████████████████████████████████▊| 345M/346M [00:09<00:00, 40.2MB/s]\n",
            "100%|████████████████████████████████████████| 346M/346M [00:09<00:00, 38.7MB/s]\n"
          ]
        }
      ],
      "source": [
        "!kaggle datasets download -d 'puneet6060/intel-image-classification'"
      ]
    },
    {
      "cell_type": "code",
      "execution_count": null,
      "metadata": {
        "id": "wnLHgN_AM6ay",
        "outputId": "9a5bbb2e-e3b7-4c55-9186-a001ddde0ef6"
      },
      "outputs": [
        {
          "name": "stdout",
          "output_type": "stream",
          "text": [
            "2191.77s - pydevd: Sending message related to process being replaced timed-out after 5 seconds\n",
            "Requirement already satisfied: unzip in /Library/Frameworks/Python.framework/Versions/3.11/lib/python3.11/site-packages (1.0.0)\n",
            "Note: you may need to restart the kernel to use updated packages.\n"
          ]
        }
      ],
      "source": [
        "%pip install unzip"
      ]
    },
    {
      "cell_type": "code",
      "execution_count": null,
      "metadata": {
        "id": "FIhQ_8FBM6ay",
        "outputId": "7bb760cb-cc3b-4b34-e34e-9c9161e5f8b9"
      },
      "outputs": [
        {
          "name": "stdout",
          "output_type": "stream",
          "text": [
            "2517.63s - pydevd: Sending message related to process being replaced timed-out after 5 seconds\n",
            "Archive:  intel-image-classification.zip\n",
            "  inflating: intel_img/seg_pred/seg_pred/10004.jpg  \n",
            "  inflating: intel_img/seg_pred/seg_pred/10005.jpg  \n",
            "  inflating: intel_img/seg_pred/seg_pred/10012.jpg  \n",
            "  inflating: intel_img/seg_pred/seg_pred/10013.jpg  \n",
            "  inflating: intel_img/seg_pred/seg_pred/10017.jpg  \n",
            "  inflating: intel_img/seg_train/seg_train/street/14479.jpg  \n"
          ]
        }
      ],
      "source": [
        "!unzip intel-image-classification.zip -d intel_img/"
      ]
    },
    {
      "cell_type": "code",
      "execution_count": null,
      "metadata": {
        "id": "68j8_Ok0M6ay"
      },
      "outputs": [],
      "source": [
        "import os\n",
        "os.chdir('/Users/jonathangong/Documents/Repositories/AI_club/lessons/intel_img')\n",
        "intel_img = os.listdir()"
      ]
    },
    {
      "cell_type": "code",
      "execution_count": null,
      "metadata": {
        "id": "KsztyrpFM6az"
      },
      "outputs": [],
      "source": [
        "os.chdir('/Users/jonathangong/Documents/Repositories/AI_club/data')"
      ]
    },
    {
      "cell_type": "code",
      "execution_count": 24,
      "metadata": {
        "id": "NwZTkM4rM6a0",
        "outputId": "36c0a195-08f1-43be-d01f-77cd2417680a",
        "colab": {
          "base_uri": "https://localhost:8080/"
        }
      },
      "outputs": [
        {
          "output_type": "stream",
          "name": "stdout",
          "text": [
            "Drive already mounted at /content/drive; to attempt to forcibly remount, call drive.mount(\"/content/drive\", force_remount=True).\n"
          ]
        }
      ],
      "source": [
        "from google.colab import drive\n",
        "drive.mount('/content/drive')"
      ]
    },
    {
      "cell_type": "markdown",
      "metadata": {
        "id": "dCezmvKEM6a0"
      },
      "source": [
        "<font size = +5> Pre-Processing Data\n",
        "\n",
        "<font size = +2> Now we have downloaded our dataset, we will clean it up and do some data augmentation \n"
      ]
    },
    {
      "cell_type": "code",
      "source": [
        "import os\n",
        "import numpy as np\n",
        "from tqdm import tqdm\n",
        "import imageio as iio\n",
        "import cv2 as cv\n",
        "import pickle\n",
        "from natsort import natsorted\n",
        "import matplotlib.pyplot as plt\n",
        "import random\n",
        "import tensorflow as tf\n",
        "from PIL import Image"
      ],
      "metadata": {
        "id": "yKLW8nsDXjZf"
      },
      "execution_count": 40,
      "outputs": []
    },
    {
      "cell_type": "code",
      "source": [
        "os.chdir('/content/drive/MyDrive/intel_img/seg_pred/seg_pred')\n",
        "seg_preds_i = os.listdir()"
      ],
      "metadata": {
        "id": "inBPmG6fZuow"
      },
      "execution_count": 43,
      "outputs": []
    },
    {
      "cell_type": "code",
      "source": [
        "seg_preds = [] # list\n",
        "for i in tqdm(range(len(seg_preds_i))):\n",
        "    img = iio.imread(i)\n",
        "    img = cv.resize(img, (128, 128)) # resize as (128, 128)\n",
        "    img = np.array(img).tolist()\n",
        "    seg_preds.append(img)\n",
        "seg_preds = np.asarray(seg_preds)"
      ],
      "metadata": {
        "id": "kCC1lkyraKJ1"
      },
      "execution_count": null,
      "outputs": []
    },
    {
      "cell_type": "code",
      "source": [
        "os.chdir('/content/drive/MyDrive/intel_img/seg_pred/seg_test/seg_test/buildings')\n",
        "seg_test_buildings_i = os.listdir()"
      ],
      "metadata": {
        "id": "cd6DGz1waWXD"
      },
      "execution_count": null,
      "outputs": []
    },
    {
      "cell_type": "code",
      "source": [
        "seg_test_buildings = [] # list\n",
        "for i in tqdm(range(len(seg_test_buildings_i))):\n",
        "    img = iio.imread(i)\n",
        "    img = cv.resize(img, (128, 128)) # resize as (128, 128)\n",
        "    img = np.array(img).tolist()\n",
        "    seg_test_buildings.append(img)\n",
        "seg_test_buildings = np.asarray(seg_test_buildings)"
      ],
      "metadata": {
        "id": "SBFiVw3kavkF"
      },
      "execution_count": null,
      "outputs": []
    },
    {
      "cell_type": "code",
      "source": [
        "os.chdir('/content/drive/MyDrive/intel_img/seg_pred/seg_test/seg_test/forest')\n",
        "seg_test_forest_i = os.listdir()"
      ],
      "metadata": {
        "id": "qxu0pS8Ca3TU"
      },
      "execution_count": null,
      "outputs": []
    },
    {
      "cell_type": "code",
      "source": [
        "seg_test_forest = [] # list\n",
        "for i in tqdm(range(len(seg_test_forest_i))):\n",
        "    img = iio.imread(i)\n",
        "    img = cv.resize(img, (128, 128)) # resize as (128, 128)\n",
        "    img = np.array(img).tolist()\n",
        "    seg_test_forest.append(img)\n",
        "seg_test_forest = np.asarray(seg_test_forest)"
      ],
      "metadata": {
        "id": "FeitbBwBa3TV"
      },
      "execution_count": null,
      "outputs": []
    },
    {
      "cell_type": "code",
      "source": [
        "os.chdir('/content/drive/MyDrive/intel_img/seg_pred/seg_test/seg_test/glacier')\n",
        "seg_test_glacier_i = os.listdir()"
      ],
      "metadata": {
        "id": "N3gYObaLbKyG"
      },
      "execution_count": null,
      "outputs": []
    },
    {
      "cell_type": "code",
      "source": [
        "seg_test_glacier = [] # list\n",
        "for i in tqdm(range(len(seg_test_glacier_i))):\n",
        "    img = iio.imread(i)\n",
        "    img = cv.resize(img, (128, 128)) # resize as (128, 128)\n",
        "    img = np.array(img).tolist()\n",
        "    seg_test_glacier.append(img)\n",
        "seg_test_glacier = np.asarray(seg_test_glacier)"
      ],
      "metadata": {
        "id": "7-ysIJQobKyH"
      },
      "execution_count": null,
      "outputs": []
    },
    {
      "cell_type": "code",
      "source": [
        "os.chdir('/content/drive/MyDrive/intel_img/seg_pred/seg_test/seg_test/mountain')\n",
        "seg_test_mountain_i = os.listdir()"
      ],
      "metadata": {
        "id": "Z2u_cvUDb29d"
      },
      "execution_count": null,
      "outputs": []
    },
    {
      "cell_type": "code",
      "source": [
        "seg_test_mountain = [] # list\n",
        "for i in tqdm(range(len(seg_test_mountain_i))):\n",
        "    img = iio.imread(i)\n",
        "    img = cv.resize(img, (128, 128)) # resize as (128, 128)\n",
        "    img = np.array(img).tolist()\n",
        "    seg_test_mountain.append(img)\n",
        "seg_test_mountain = np.asarray(seg_test_mountain)"
      ],
      "metadata": {
        "id": "HG9k67ZEb29e"
      },
      "execution_count": null,
      "outputs": []
    },
    {
      "cell_type": "code",
      "source": [
        "os.chdir('/content/drive/MyDrive/intel_img/seg_pred/seg_test/seg_test/sea)\n",
        "seg_test_sea_i = os.listdir()"
      ],
      "metadata": {
        "id": "IrV0zWF1b-05"
      },
      "execution_count": null,
      "outputs": []
    },
    {
      "cell_type": "code",
      "source": [
        "seg_test_sea = [] # list\n",
        "for i in tqdm(range(len(seg_test_sea_i))):\n",
        "    img = iio.imread(i)\n",
        "    img = cv.resize(img, (128, 128)) # resize as (128, 128)\n",
        "    img = np.array(img).tolist()\n",
        "    seg_test_sea.append(img)\n",
        "seg_test_sea = np.asarray(seg_test_sea)"
      ],
      "metadata": {
        "id": "n7Pip6heb-07"
      },
      "execution_count": null,
      "outputs": []
    },
    {
      "cell_type": "code",
      "source": [
        "os.chdir('/content/drive/MyDrive/intel_img/seg_pred/seg_test/seg_test/street)\n",
        "seg_test_street_i = os.listdir()"
      ],
      "metadata": {
        "id": "BHLu98XBcEip"
      },
      "execution_count": null,
      "outputs": []
    },
    {
      "cell_type": "code",
      "source": [
        "seg_test_street = [] # list\n",
        "for i in tqdm(range(len(seg_test_street_i))):\n",
        "    img = iio.imread(i)\n",
        "    img = cv.resize(img, (128, 128)) # resize as (128, 128)\n",
        "    img = np.array(img).tolist()\n",
        "    seg_test_street.append(img)\n",
        "seg_test_street = np.asarray(seg_test_street)"
      ],
      "metadata": {
        "id": "0yRf8JxjcEiq"
      },
      "execution_count": null,
      "outputs": []
    },
    {
      "cell_type": "code",
      "source": [
        "os.chdir('/content/drive/MyDrive/intel_img/seg_pred/seg_train/seg_train/buildings')\n",
        "seg_train_buildings_i = os.listdir()"
      ],
      "metadata": {
        "id": "XQyo0YaKcTBY"
      },
      "execution_count": null,
      "outputs": []
    },
    {
      "cell_type": "code",
      "source": [
        "seg_train_buildings = [] # list\n",
        "for i in tqdm(range(len(seg_train_buildings_i))):\n",
        "    img = iio.imread(i)\n",
        "    img = cv.resize(img, (128, 128)) # resize as (128, 128)\n",
        "    img = np.array(img).tolist()\n",
        "    seg_train_buildings.append(img)\n",
        "seg_train_buildings = np.asarray(seg_train_buildings)"
      ],
      "metadata": {
        "id": "WSxT5oaecTBb",
        "outputId": "c6932d21-a699-4cc5-96de-0195bc21363a",
        "colab": {
          "base_uri": "https://localhost:8080/"
        }
      },
      "execution_count": 46,
      "outputs": [
        {
          "output_type": "stream",
          "name": "stderr",
          "text": [
            "0it [00:00, ?it/s]\n"
          ]
        }
      ]
    },
    {
      "cell_type": "code",
      "source": [
        "os.chdir('/content/drive/MyDrive/intel_img/seg_pred/seg_train/seg_train/forest')\n",
        "seg_train_forest_i = os.listdir()"
      ],
      "metadata": {
        "id": "-ey2HSjUcTBb"
      },
      "execution_count": null,
      "outputs": []
    },
    {
      "cell_type": "code",
      "source": [
        "seg_train_forest = [] # list\n",
        "for i in tqdm(range(len(seg_train_forest_i))):\n",
        "    img = iio.imread(i)\n",
        "    img = cv.resize(img, (128, 128)) # resize as (128, 128)\n",
        "    img = np.array(img).tolist()\n",
        "    seg_train_forest.append(img)\n",
        "seg_train_forest = np.asarray(seg_train_forest)"
      ],
      "metadata": {
        "id": "Qt-lCEq6cTBc"
      },
      "execution_count": null,
      "outputs": []
    },
    {
      "cell_type": "code",
      "source": [
        "os.chdir('/content/drive/MyDrive/intel_img/seg_pred/seg_train/seg_train/glacier')\n",
        "seg_train_glacier_i = os.listdir()"
      ],
      "metadata": {
        "id": "1Uftwz-AcTBd"
      },
      "execution_count": null,
      "outputs": []
    },
    {
      "cell_type": "code",
      "source": [
        "seg_train_glacier = [] # list\n",
        "for i in tqdm(range(len(seg_train_glacier_i))):\n",
        "    img = iio.imread(i)\n",
        "    img = cv.resize(img, (128, 128)) # resize as (128, 128)\n",
        "    img = np.array(img).tolist()\n",
        "    seg_train_glacier.append(img)\n",
        "seg_train_glacier = np.asarray(seg_train_glacier)"
      ],
      "metadata": {
        "id": "xZyASzyrcTBd"
      },
      "execution_count": null,
      "outputs": []
    },
    {
      "cell_type": "code",
      "source": [
        "os.chdir('/content/drive/MyDrive/intel_img/seg_pred/seg_train/seg_train/mountain')\n",
        "seg_train_mountain_i = os.listdir()"
      ],
      "metadata": {
        "id": "fs96k00lcTBe"
      },
      "execution_count": null,
      "outputs": []
    },
    {
      "cell_type": "code",
      "source": [
        "seg_train_mountain = [] # list\n",
        "for i in tqdm(range(len(seg_train_mountain_i))):\n",
        "    img = iio.imread(i)\n",
        "    img = cv.resize(img, (128, 128)) # resize as (128, 128)\n",
        "    img = np.array(img).tolist()\n",
        "    seg_train_mountain.append(img)\n",
        "seg_train_mountain = np.asarray(seg_train_mountain)"
      ],
      "metadata": {
        "id": "KTGxCKPRcTBe"
      },
      "execution_count": null,
      "outputs": []
    },
    {
      "cell_type": "code",
      "source": [
        "os.chdir('/content/drive/MyDrive/intel_img/seg_pred/seg_train/seg_train/sea)\n",
        "seg_train_sea_i = os.listdir()"
      ],
      "metadata": {
        "id": "fEpJpP0wcTBe"
      },
      "execution_count": null,
      "outputs": []
    },
    {
      "cell_type": "code",
      "source": [
        "seg_train_sea = [] # list\n",
        "for i in tqdm(range(len(seg_train_sea_i))):\n",
        "    img = iio.imread(i)\n",
        "    img = cv.resize(img, (128, 128)) # resize as (128, 128)\n",
        "    img = np.array(img).tolist()\n",
        "    seg_train_sea.append(img)\n",
        "seg_train_sea = np.asarray(seg_train_sea)"
      ],
      "metadata": {
        "id": "8Pyw1VO8cTBf"
      },
      "execution_count": null,
      "outputs": []
    },
    {
      "cell_type": "code",
      "source": [
        "os.chdir('/content/drive/MyDrive/intel_img/seg_pred/seg_train/seg_train/street)\n",
        "seg_train_street_i = os.listdir()"
      ],
      "metadata": {
        "id": "hhGmsFfhcTBf"
      },
      "execution_count": null,
      "outputs": []
    },
    {
      "cell_type": "code",
      "source": [
        "seg_train_street = [] # list\n",
        "for i in tqdm(range(len(seg_train_street_i))):\n",
        "    img = iio.imread(i)\n",
        "    img = cv.resize(img, (128, 128)) # resize as (128, 128)\n",
        "    img = np.array(img).tolist()\n",
        "    seg_train_street.append(img)\n",
        "seg_train_street = np.asarray(seg_train_street)"
      ],
      "metadata": {
        "id": "55a3dE_EcTBg"
      },
      "execution_count": null,
      "outputs": []
    }
  ],
  "metadata": {
    "kernelspec": {
      "display_name": "Python 3",
      "language": "python",
      "name": "python3"
    },
    "language_info": {
      "codemirror_mode": {
        "name": "ipython",
        "version": 3
      },
      "file_extension": ".py",
      "mimetype": "text/x-python",
      "name": "python",
      "nbconvert_exporter": "python",
      "pygments_lexer": "ipython3",
      "version": "3.11.3"
    },
    "orig_nbformat": 4,
    "colab": {
      "provenance": []
    }
  },
  "nbformat": 4,
  "nbformat_minor": 0
}