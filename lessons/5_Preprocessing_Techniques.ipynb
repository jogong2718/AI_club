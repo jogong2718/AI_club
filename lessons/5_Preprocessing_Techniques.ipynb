{
 "cells": [
  {
   "attachments": {},
   "cell_type": "markdown",
   "metadata": {},
   "source": [
    "<font size = +5> We will first import our dataset"
   ]
  },
  {
   "cell_type": "code",
   "execution_count": 9,
   "metadata": {},
   "outputs": [
    {
     "name": "stdout",
     "output_type": "stream",
     "text": [
      "1204.83s - pydevd: Sending message related to process being replaced timed-out after 5 seconds\n",
      "Requirement already satisfied: kaggle in /Library/Frameworks/Python.framework/Versions/3.11/lib/python3.11/site-packages (1.5.13)\n",
      "Requirement already satisfied: six>=1.10 in /Library/Frameworks/Python.framework/Versions/3.11/lib/python3.11/site-packages (from kaggle) (1.16.0)\n",
      "Requirement already satisfied: certifi in /Library/Frameworks/Python.framework/Versions/3.11/lib/python3.11/site-packages (from kaggle) (2023.5.7)\n",
      "Requirement already satisfied: python-dateutil in /Library/Frameworks/Python.framework/Versions/3.11/lib/python3.11/site-packages (from kaggle) (2.8.2)\n",
      "Requirement already satisfied: requests in /Library/Frameworks/Python.framework/Versions/3.11/lib/python3.11/site-packages (from kaggle) (2.31.0)\n",
      "Requirement already satisfied: tqdm in /Library/Frameworks/Python.framework/Versions/3.11/lib/python3.11/site-packages (from kaggle) (4.65.0)\n",
      "Requirement already satisfied: python-slugify in /Library/Frameworks/Python.framework/Versions/3.11/lib/python3.11/site-packages (from kaggle) (8.0.1)\n",
      "Requirement already satisfied: urllib3 in /Library/Frameworks/Python.framework/Versions/3.11/lib/python3.11/site-packages (from kaggle) (2.0.2)\n",
      "Requirement already satisfied: text-unidecode>=1.3 in /Library/Frameworks/Python.framework/Versions/3.11/lib/python3.11/site-packages (from python-slugify->kaggle) (1.3)\n",
      "Requirement already satisfied: charset-normalizer<4,>=2 in /Library/Frameworks/Python.framework/Versions/3.11/lib/python3.11/site-packages (from requests->kaggle) (3.1.0)\n",
      "Requirement already satisfied: idna<4,>=2.5 in /Library/Frameworks/Python.framework/Versions/3.11/lib/python3.11/site-packages (from requests->kaggle) (3.4)\n",
      "Note: you may need to restart the kernel to use updated packages.\n"
     ]
    }
   ],
   "source": [
    "%pip install kaggle"
   ]
  },
  {
   "cell_type": "code",
   "execution_count": 11,
   "metadata": {},
   "outputs": [
    {
     "name": "stdout",
     "output_type": "stream",
     "text": [
      "1808.54s - pydevd: Sending message related to process being replaced timed-out after 5 seconds\n",
      "Warning: Your Kaggle API key is readable by other users on this system! To fix this, you can run 'chmod 600 /Users/jonathangong/.kaggle/kaggle.json'\n",
      "ref                                                             title                                              size  lastUpdated          downloadCount  voteCount  usabilityRating  \n",
      "--------------------------------------------------------------  ------------------------------------------------  -----  -------------------  -------------  ---------  ---------------  \n",
      "puneet6060/intel-image-classification                           Intel Image Classification                        346MB  2019-01-30 09:22:58          79672       1326  0.75             \n",
      "kkhandekar/image-dataset                                        Image_Dataset                                     171MB  2020-06-28 22:44:13            918         27  0.8125           \n",
      "utkarshsaxenadn/intel-image-classifier-resblockcustom-model     Intel Image Classifier - ResBlock(Custom Model)   279KB  2022-10-02 02:48:22             10          8  1.0              \n",
      "kutaykutlu/drowsiness-detection                                 Drowsiness Detection                              180MB  2021-02-14 19:06:50           1564         31  0.5625           \n",
      "ttagu99/sceneimage                                              SceneImage                                        107MB  2020-06-17 04:40:46             12          4  0.25             \n",
      "abhishektyagi001/vehicle-make-model-recognition-dataset-vmmrdb  Vehicle Make, Model Recognition Dataset (VMMRdb)  462MB  2020-09-23 03:26:00            277         10  0.4375           \n",
      "krishnakumarkk/pretrained-models-on-intel-image-classification  Pretrained Models on Intel Image Classification   487MB  2021-01-26 05:51:13             11          1  0.23529412       \n",
      "nepuerto/the-small-norb-dataset-v10                             THE small NORB DATASET, V1.0                      256MB  2018-01-04 15:50:09            417         12  0.5              \n",
      "gnornie/intel-image-classification-with-annotation              Intel Image Classification with annotation        347MB  2022-05-03 09:06:24              8          0  0.125            \n",
      "khaledelsayedibrahim/fishclassifyfinal                          fishclassifyfinal                                 595MB  2020-06-10 03:19:07             95          4  0.1875           \n",
      "huseynguliyev/landscape-classification                          Landscape Classification                          121MB  2020-05-09 05:56:29            289          6  0.125            \n",
      "khaledelsayedibrahim/imageclassifier                            imageclassifier                                   486MB  2020-05-19 21:59:33              3          1  0.1875           \n",
      "khaledelsayedibrahim/fishclassifierfinal                        fishclassifierfinal                               540MB  2020-06-08 23:33:50             51          1  0.1875           \n",
      "khaledelsayedibrahim/imageclassifierr                           imageclassifierr                                  385MB  2020-05-28 23:28:48              9          1  0.1875           \n",
      "khaledelsayedibrahim/lastversion                                lastversion                                       519MB  2020-05-30 04:06:35              4          1  0.1875           \n",
      "khaledelsayedibrahim/tmmmmmam                                   tmmmmmam                                          239MB  2020-06-11 07:06:56              2          1  0.1875           \n",
      "khaledelgamily/inputs                                           10 classes detection                               84MB  2022-09-15 20:53:18              4          0  0.125            \n",
      "chnhlquang/data-cay                                             DATA_CAY                                          443MB  2021-04-08 16:19:16              3          1  0.0              \n"
     ]
    }
   ],
   "source": [
    "!kaggle datasets list -s 'intel image classification'"
   ]
  },
  {
   "cell_type": "code",
   "execution_count": 21,
   "metadata": {},
   "outputs": [
    {
     "name": "stdout",
     "output_type": "stream",
     "text": [
      "2216.96s - pydevd: Sending message related to process being replaced timed-out after 5 seconds\n",
      "Warning: Your Kaggle API key is readable by other users on this system! To fix this, you can run 'chmod 600 /Users/jonathangong/.kaggle/kaggle.json'\n",
      "Downloading intel-image-classification.zip to /Users/jonathangong/Documents/Repositories/AI_club/lessons\n",
      "100%|███████████████████████████████████████▊| 345M/346M [00:09<00:00, 40.2MB/s]\n",
      "100%|████████████████████████████████████████| 346M/346M [00:09<00:00, 38.7MB/s]\n"
     ]
    }
   ],
   "source": [
    "!kaggle datasets download -d 'puneet6060/intel-image-classification'"
   ]
  },
  {
   "cell_type": "code",
   "execution_count": 20,
   "metadata": {},
   "outputs": [
    {
     "name": "stdout",
     "output_type": "stream",
     "text": [
      "2191.77s - pydevd: Sending message related to process being replaced timed-out after 5 seconds\n",
      "Requirement already satisfied: unzip in /Library/Frameworks/Python.framework/Versions/3.11/lib/python3.11/site-packages (1.0.0)\n",
      "Note: you may need to restart the kernel to use updated packages.\n"
     ]
    }
   ],
   "source": [
    "%pip install unzip"
   ]
  },
  {
   "cell_type": "code",
   "execution_count": 25,
   "metadata": {},
   "outputs": [
    {
     "name": "stdout",
     "output_type": "stream",
     "text": [
      "2517.63s - pydevd: Sending message related to process being replaced timed-out after 5 seconds\n",
      "Archive:  intel-image-classification.zip\n",
      "  inflating: intel_img/seg_pred/seg_pred/10004.jpg  \n",
      "  inflating: intel_img/seg_pred/seg_pred/10005.jpg  \n",
      "  inflating: intel_img/seg_pred/seg_pred/10012.jpg  \n",
      "  inflating: intel_img/seg_pred/seg_pred/10013.jpg  \n",
      "  inflating: intel_img/seg_pred/seg_pred/10017.jpg  \n",
      "  inflating: intel_img/seg_train/seg_train/street/14479.jpg  \n"
     ]
    }
   ],
   "source": [
    "!unzip intel-image-classification.zip -d intel_img/"
   ]
  },
  {
   "cell_type": "code",
   "execution_count": 1,
   "metadata": {},
   "outputs": [],
   "source": [
    "import os\n",
    "os.chdir('/Users/jonathangong/Documents/Repositories/AI_club/lessons/intel_img')\n",
    "intel_img = os.listdir()"
   ]
  },
  {
   "cell_type": "code",
   "execution_count": 6,
   "metadata": {},
   "outputs": [],
   "source": [
    "os.chdir('/Users/jonathangong/Documents/Repositories/AI_club/data')"
   ]
  },
  {
   "cell_type": "code",
   "execution_count": 7,
   "metadata": {},
   "outputs": [],
   "source": [
    "import pickle\n",
    "with open('intel_img.pkl', 'wb') as handle:\n",
    "    pickle.dump((intel_img), handle, protocol=pickle.HIGHEST_PROTOCOL)"
   ]
  },
  {
   "attachments": {},
   "cell_type": "markdown",
   "metadata": {},
   "source": [
    "<font size = +5> Pre-Processing Data\n",
    "\n",
    "<font size = +2> Now we have downloaded our dataset, we will clean it up and do some data augmentation \n",
    "\n",
    "<font size = +2> Since I have downloaded the dataset, I need you to download the pickle file from my drive and the use it in colab like normal"
   ]
  },
  {
   "cell_type": "code",
   "execution_count": null,
   "metadata": {},
   "outputs": [],
   "source": []
  }
 ],
 "metadata": {
  "kernelspec": {
   "display_name": "Python 3",
   "language": "python",
   "name": "python3"
  },
  "language_info": {
   "codemirror_mode": {
    "name": "ipython",
    "version": 3
   },
   "file_extension": ".py",
   "mimetype": "text/x-python",
   "name": "python",
   "nbconvert_exporter": "python",
   "pygments_lexer": "ipython3",
   "version": "3.11.3"
  },
  "orig_nbformat": 4
 },
 "nbformat": 4,
 "nbformat_minor": 2
}
