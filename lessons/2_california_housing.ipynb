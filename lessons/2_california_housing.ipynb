{
  "cells": [
    {
      "cell_type": "markdown",
      "metadata": {
        "id": "view-in-github",
        "colab_type": "text"
      },
      "source": [
        "<a href=\"https://colab.research.google.com/github/jogong2718/AI_club/blob/main/2_california_housing.ipynb\" target=\"_parent\"><img src=\"https://colab.research.google.com/assets/colab-badge.svg\" alt=\"Open In Colab\"/></a>"
      ]
    },
    {
      "cell_type": "code",
      "execution_count": null,
      "metadata": {
        "id": "aKBJGp4uTKSm"
      },
      "outputs": [],
      "source": [
        "import numpy as np\n",
        "import pandas as pd\n",
        "import matplotlib.pyplot as plt\n",
        "import os\n",
        "import tensorflow as tf"
      ]
    },
    {
      "cell_type": "code",
      "execution_count": null,
      "metadata": {
        "id": "OF2Q3kza5ZzM"
      },
      "outputs": [],
      "source": [
        "from google.colab import drive\n",
        "drive.mount('/content/drive')"
      ]
    },
    {
      "cell_type": "code",
      "execution_count": null,
      "metadata": {
        "id": "9mrtQCSLTUW8"
      },
      "outputs": [],
      "source": [
        "testdata = pd.read_csv(\"sample_data/california_housing_test.csv\")\n",
        "traindata = pd.read_csv(\"sample_data/california_housing_train.csv\")"
      ]
    },
    {
      "cell_type": "code",
      "execution_count": null,
      "metadata": {
        "id": "ie8BbWMOU-MW"
      },
      "outputs": [],
      "source": [
        "train_y = traindata[\"median_house_value\"]\n",
        "test_y = testdata[\"median_house_value\"]\n",
        "train_x = traindata.loc[:, traindata.columns!='median_house_value']\n",
        "test_x = testdata.loc[:, testdata.columns!='median_house_value']"
      ]
    },
    {
      "cell_type": "code",
      "execution_count": null,
      "metadata": {
        "id": "JSjsPZQVdcMs"
      },
      "outputs": [],
      "source": [
        "model = tf.keras.models.Sequential([\n",
        "tf.keras.Input(shape=(8,)),\n",
        "tf.keras.layers.Dense(512, activation = \"relu\"),\n",
        "tf.keras.layers.Dense(256, activation = \"relu\"),\n",
        "tf.keras.layers.Dense(128, activation = \"relu\"),\n",
        "tf.keras.layers.Dense(64, activation = \"relu\"),\n",
        "tf.keras.layers.Dense(32, activation = \"relu\"),\n",
        "tf.keras.layers.Dense(1)\n",
        "])"
      ]
    },
    {
      "cell_type": "code",
      "execution_count": null,
      "metadata": {
        "id": "7j5W8fdjEbg8"
      },
      "outputs": [],
      "source": [
        "model.compile(\n",
        "    optimizer = \"adam\",\n",
        "    loss = \"mae\"\n",
        ")"
      ]
    },
    {
      "cell_type": "code",
      "execution_count": null,
      "metadata": {
        "id": "V8zU6ozYgzrt"
      },
      "outputs": [],
      "source": [
        "model.fit(\n",
        "    train_x, train_y, \n",
        "    validation_data = (test_x, test_y),\n",
        "    batch_size = 1,\n",
        "    epochs = 100\n",
        ")"
      ]
    },
    {
      "cell_type": "code",
      "execution_count": null,
      "metadata": {
        "id": "TsJ4dO9Zpr4Q"
      },
      "outputs": [],
      "source": [
        "test_y_predict = model.predict(test_x)"
      ]
    },
    {
      "cell_type": "code",
      "execution_count": null,
      "metadata": {
        "id": "IO_j2v-6qSVU"
      },
      "outputs": [],
      "source": [
        "import matplotlib.pyplot as plt"
      ]
    },
    {
      "cell_type": "code",
      "execution_count": null,
      "metadata": {
        "id": "miy7e9X8qZRc",
        "colab": {
          "base_uri": "https://localhost:8080/"
        },
        "outputId": "601d9168-c40f-48b7-e3ac-8825695ebe4a"
      },
      "outputs": [
        {
          "output_type": "execute_result",
          "data": {
            "text/plain": [
              "<matplotlib.collections.PathCollection at 0x7f5779328810>"
            ]
          },
          "metadata": {},
          "execution_count": 9
        },
        {
          "output_type": "display_data",
          "data": {
            "text/plain": [
              "<Figure size 432x288 with 1 Axes>"
            ],
            "image/png": "[encoded data removed]"
          },
          "metadata": {
            "needs_background": "light"
          }
        }
      ],
      "source": [
        "plt.scatter(test_y_predict, test_y)"
      ]
    },
    {
      "cell_type": "code",
      "execution_count": null,
      "metadata": {
        "id": "LpTzWxhMq0il",
        "colab": {
          "base_uri": "https://localhost:8080/"
        },
        "outputId": "8e607e7d-9ece-4685-8fd8-2a29031d4627"
      },
      "outputs": [
        {
          "output_type": "execute_result",
          "data": {
            "text/plain": [
              "46649.49235677083"
            ]
          },
          "metadata": {},
          "execution_count": 10
        }
      ],
      "source": [
        "np.mean(np.abs(test_y_predict.reshape((-1)) - test_y))"
      ]
    }
  ],
  "metadata": {
    "colab": {
      "provenance": [],
      "include_colab_link": true
    },
    "kernelspec": {
      "display_name": "Python 3",
      "name": "python3"
    },
    "language_info": {
      "name": "python"
    }
  },
  "nbformat": 4,
  "nbformat_minor": 0
}
