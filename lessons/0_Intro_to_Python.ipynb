{
  "nbformat": 4,
  "nbformat_minor": 0,
  "metadata": {
    "colab": {
      "provenance": [],
      "authorship_tag": "ABX9TyOrdspOChNo2z8Z/2/QExbQ",
      "include_colab_link": true
    },
    "kernelspec": {
      "name": "python3",
      "display_name": "Python 3"
    },
    "language_info": {
      "name": "python"
    }
  },
  "cells": [
    {
      "cell_type": "markdown",
      "metadata": {
        "id": "view-in-github",
        "colab_type": "text"
      },
      "source": [
        "<a href=\"https://colab.research.google.com/github/jogong2718/AI_club/blob/main/0_Intro_to_Python.ipynb\" target=\"_parent\"><img src=\"https://colab.research.google.com/assets/colab-badge.svg\" alt=\"Open In Colab\"/></a>"
      ]
    },
    {
      "cell_type": "markdown",
      "source": [
        "<font size=\"+10\">**Quick Intro of Python, Colab, and Libraries we will use**</font>"
      ],
      "metadata": {
        "id": "XeiOc9yuJqB0"
      }
    },
    {
      "cell_type": "markdown",
      "source": [
        "When running code in colab, there are a few steps you must follow.\n",
        "\n",
        "Step 1: Press Connect in the top right\n",
        "\n",
        "Step 2: Either go to Runtime and click run all, or run each indivdual \"cell\" seperately\n"
      ],
      "metadata": {
        "id": "G5QZOgGYKtAu"
      }
    },
    {
      "cell_type": "markdown",
      "source": [
        "##<font size = +3> **Python Basics**"
      ],
      "metadata": {
        "id": "9Z5P59RdlDVt"
      }
    },
    {
      "cell_type": "markdown",
      "source": [
        "<font size = +2>**Print command**\n",
        "\n",
        "(You will use this way too much)"
      ],
      "metadata": {
        "id": "kr16-gl6KK4k"
      }
    },
    {
      "cell_type": "code",
      "execution_count": null,
      "metadata": {
        "colab": {
          "base_uri": "https://localhost:8080/"
        },
        "id": "-tbfw2l1Jiun",
        "outputId": "c03ff1ed-5569-4f27-c98f-35b299eb60b5"
      },
      "outputs": [
        {
          "output_type": "stream",
          "name": "stdout",
          "text": [
            "hello southridge\n"
          ]
        }
      ],
      "source": [
        "print(\"hello southridge\")"
      ]
    },
    {
      "cell_type": "markdown",
      "source": [
        "When you run a cell, you only run the code that is in that cell. This essentially gives you more flexibility with your program."
      ],
      "metadata": {
        "id": "hYF37JULMJV4"
      }
    },
    {
      "cell_type": "markdown",
      "source": [
        "<font size=+2>**Variables**"
      ],
      "metadata": {
        "id": "ffzak7jcMkEx"
      }
    },
    {
      "cell_type": "markdown",
      "source": [
        "Use variables to store info. Variables are like containers: you can put things into them and extract their contents later.\n",
        "\n",
        "\n",
        "\n",
        "Watch this video introducing you to variables.\n",
        "\n",
        "Often, when we're programming, we need to store some pieces of information. A good way to do this is by using variables. Variables are like containers: you can put things into them and extract their contents later.\n",
        "\n",
        "To declare a variable, there are three steps:\n",
        "\n",
        "  1. Come up with a name for your variable\n",
        "  2. Write an equals sign (=)\n",
        "  3. Put the value you want to store in your variable after the = sign\n",
        "\n"
      ],
      "metadata": {
        "id": "z5m2fTwmMpQx"
      }
    },
    {
      "cell_type": "code",
      "source": [
        "a_number = 2.718\n",
        "a_number_2 = 3\n",
        "a_word = \"Hello\"\n",
        "a_word_2 = \"Everyone\"\n",
        "\n",
        "print(a_word)\n",
        "print(a_number)\n",
        "print(a_number + a_number_2)\n",
        "print(a_word + a_word_2)"
      ],
      "metadata": {
        "colab": {
          "base_uri": "https://localhost:8080/"
        },
        "id": "7tB03Q8cNnHf",
        "outputId": "cc48e2b4-7e91-4352-aafb-872f1975047e"
      },
      "execution_count": null,
      "outputs": [
        {
          "output_type": "stream",
          "name": "stdout",
          "text": [
            "Hello\n",
            "2.718\n",
            "5.718\n",
            "HelloEveryone\n"
          ]
        }
      ]
    },
    {
      "cell_type": "markdown",
      "source": [
        "Notice that when we define strings, we need to use quotation marks to define them. But with numbers, we can leave out the quotes.\n",
        "\n",
        "Notice with the + operation, it can be used to add numbers or concatenate strings"
      ],
      "metadata": {
        "id": "0jhr3JvrPs-4"
      }
    },
    {
      "cell_type": "markdown",
      "source": [
        "<font size = +2> **Booleans and Conditionals**"
      ],
      "metadata": {
        "id": "EVq6F-SWQS2k"
      }
    },
    {
      "cell_type": "markdown",
      "source": [
        "When we talk about booleans in Python, we are talking about a type of variable that can take on two values: <u>True or False</u>\n",
        "\n",
        "A conditional expression we will learn is the If statement"
      ],
      "metadata": {
        "id": "FMIkvBcQQ2Sl"
      }
    },
    {
      "cell_type": "code",
      "source": [
        "is_solid = True #the True boolean\n",
        "\n",
        "if is_solid:\n",
        "  print(\"It is a solid!\")\n",
        "else: \n",
        "  print(\"It is not a solid\")"
      ],
      "metadata": {
        "id": "yMk1fDncPURf",
        "colab": {
          "base_uri": "https://localhost:8080/"
        },
        "outputId": "ed47cdc5-2e50-4ffe-c81e-4c37a484d222"
      },
      "execution_count": 3,
      "outputs": [
        {
          "output_type": "stream",
          "name": "stdout",
          "text": [
            "It is a solid!\n"
          ]
        }
      ]
    },
    {
      "cell_type": "code",
      "source": [
        "is_solid = False #the False boolean\n",
        "\n",
        "if is_solid:\n",
        "  print(\"It is a solid!\")\n",
        "else: \n",
        "  print(\"It is not a solid\")"
      ],
      "metadata": {
        "colab": {
          "base_uri": "https://localhost:8080/"
        },
        "id": "_Hv9AcG1Cqh4",
        "outputId": "56745717-cf20-459d-9535-f50498ef7a09"
      },
      "execution_count": 4,
      "outputs": [
        {
          "output_type": "stream",
          "name": "stdout",
          "text": [
            "It is not a solid\n"
          ]
        }
      ]
    },
    {
      "cell_type": "markdown",
      "source": [
        "<font size = +2> **Comparison Operators:** \n",
        "``` ==, !=, >, <, >=, <=```\n",
        "\n",
        "We have seen setting variables as booleans. Sometimes, however, we want to compare other values or expressions to each other. To do this, we can use **comparison operators**.\n",
        "\n",
        "There are six main types of comparison operator:\n",
        "\n",
        "1. ```==``` checks to see if two values/expressions are equal\n",
        "2. ```!=``` checks to see if two values/expressions are not equal\n",
        "3. ```>```checks to see if the left-hand value/expression is greater than the right-hand value/expression\n",
        "4. ```<``` checks to see if the left-hand value/expression is less than the right-hand value/expression\n",
        "5. ```>=``` checks to see if the left-hand value/expression is greater than or equal to the right-hand value/expression\n",
        "6. ```<=``` checks to see if the left-hand value/expression is less than or equal to the right-hand value/expression\n",
        "\n",
        "If the comparison condition is satistfied, the whole expression will evaluate to True. If it's not, the whole expression evaluates to False.\n",
        "\n",
        "\n",
        "\n"
      ],
      "metadata": {
        "id": "-szPbxDaRC2V"
      }
    },
    {
      "cell_type": "code",
      "source": [
        "a_num = 2\n",
        "result = a_num == 2\n",
        "print(result)\n",
        "\n",
        "print(a_num >= 3)\n",
        "\n",
        "print(3 - a_num != a_num/2)"
      ],
      "metadata": {
        "colab": {
          "base_uri": "https://localhost:8080/"
        },
        "id": "ZFToRwRS4IVJ",
        "outputId": "7c36fb88-80ec-4610-a0da-526f52a88ed3"
      },
      "execution_count": 4,
      "outputs": [
        {
          "output_type": "stream",
          "name": "stdout",
          "text": [
            "True\n",
            "False\n",
            "False\n"
          ]
        }
      ]
    },
    {
      "cell_type": "markdown",
      "source": [
        "<font size = +2> **While and For loops**\n",
        "\n",
        "While and For loops are the two basic loops in python. When implementing machine learning models, you use for and while loops to process data and visualize results.[link text](https://)"
      ],
      "metadata": {
        "id": "advmSXxoC3_4"
      }
    },
    {
      "cell_type": "code",
      "source": [
        "num = 10\n",
        "for i in range(num):\n",
        "  print(i)"
      ],
      "metadata": {
        "colab": {
          "base_uri": "https://localhost:8080/"
        },
        "id": "pGKjufuoDmGF",
        "outputId": "87c6a682-b4c7-4ca6-ccc9-302e8bf7a7ec"
      },
      "execution_count": 5,
      "outputs": [
        {
          "output_type": "stream",
          "name": "stdout",
          "text": [
            "0\n",
            "1\n",
            "2\n",
            "3\n",
            "4\n",
            "5\n",
            "6\n",
            "7\n",
            "8\n",
            "9\n"
          ]
        }
      ]
    },
    {
      "cell_type": "markdown",
      "source": [
        "In this piece of code, a for loop is defined as  \n",
        "```\n",
        "for i in range():\n",
        "```\n",
        "A for loop has three main things\n",
        "1. You say \"```for i in range():```\"\n",
        "2. You insert an integer in the parenthesis of the range\n",
        "3. You have a body of code inside the loop\n",
        "\n",
        "You use a for loop when you know how many times you want to loop something. In our examples case, the number of times the loop loops is 10\n"
      ],
      "metadata": {
        "id": "4UcRQkoKEAxf"
      }
    },
    {
      "cell_type": "code",
      "source": [
        "a_num = 10\n",
        "\n",
        "while a_num <= 20:\n",
        "  print(a_num)\n",
        "  a_num += 1"
      ],
      "metadata": {
        "colab": {
          "base_uri": "https://localhost:8080/"
        },
        "id": "41ZpRKM7FR6D",
        "outputId": "b0ab6c4c-ad67-4521-8296-636d1b9e374b"
      },
      "execution_count": 6,
      "outputs": [
        {
          "output_type": "stream",
          "name": "stdout",
          "text": [
            "10\n",
            "11\n",
            "12\n",
            "13\n",
            "14\n",
            "15\n",
            "16\n",
            "17\n",
            "18\n",
            "19\n",
            "20\n"
          ]
        }
      ]
    },
    {
      "cell_type": "markdown",
      "source": [
        "Unlike a for loop, a while loop is used for when you don't know the exact amount of times you want to loop. In the example's case, the while loop is performed until `a_num` is above 20.\n",
        "\n",
        "A while look has three main things\n",
        "1. You say`while #condition:`\n",
        "2. You insert a condition\n",
        "3. You have a body of code in the loop"
      ],
      "metadata": {
        "id": "S96a0kUkO91M"
      }
    },
    {
      "cell_type": "markdown",
      "source": [
        "##<font size = +3> **Libraries for machine learning**\n",
        "\n"
      ],
      "metadata": {
        "id": "iETqOQlaivCC"
      }
    },
    {
      "cell_type": "markdown",
      "source": [
        "<font size = +3> **NumPy**\n",
        "\n",
        " standard library for scientific computing using python. We will represent all of our data which will be fed into our machine learning models using Numpy."
      ],
      "metadata": {
        "id": "t6k7CAsylBEO"
      }
    },
    {
      "cell_type": "code",
      "source": [
        "import numpy as np"
      ],
      "metadata": {
        "id": "ytrstSBu6Msk"
      },
      "execution_count": 1,
      "outputs": []
    },
    {
      "cell_type": "markdown",
      "source": [
        "<font size = +2> **Arrays**\n",
        "\n",
        "Numpy array are simply a collection of items. They look like this:"
      ],
      "metadata": {
        "id": "v2CVZl7h6Abr"
      }
    },
    {
      "cell_type": "code",
      "source": [
        "a_np_array = np.array([1, 2, 3, 4, 5])\n",
        "a_np_array"
      ],
      "metadata": {
        "colab": {
          "base_uri": "https://localhost:8080/"
        },
        "id": "nDLuf55h6ZCg",
        "outputId": "22c01aa9-22ae-40df-8190-d3c5bb7dcc47"
      },
      "execution_count": 10,
      "outputs": [
        {
          "output_type": "execute_result",
          "data": {
            "text/plain": [
              "array([1, 2, 3, 4, 5])"
            ]
          },
          "metadata": {},
          "execution_count": 10
        }
      ]
    },
    {
      "cell_type": "markdown",
      "source": [
        "Although the data we feed our models will be in the form of numpy data structures, when processing our data, we can use python arrays/lists. "
      ],
      "metadata": {
        "id": "UjAolb3B7eKe"
      }
    },
    {
      "cell_type": "code",
      "source": [
        "a_py_array = [6, 7, 8, 9, 10]\n",
        "a_py_array"
      ],
      "metadata": {
        "colab": {
          "base_uri": "https://localhost:8080/"
        },
        "id": "4mZaMdHJ7bZr",
        "outputId": "812332d1-23f5-48c3-bc74-5cc95c7993d9"
      },
      "execution_count": 11,
      "outputs": [
        {
          "output_type": "execute_result",
          "data": {
            "text/plain": [
              "[6, 7, 8, 9, 10]"
            ]
          },
          "metadata": {},
          "execution_count": 11
        }
      ]
    },
    {
      "cell_type": "code",
      "source": [
        "a_new_py_array = np.ndarray.tolist(a_np_array) # np array to python array \n",
        "a_new_py_array"
      ],
      "metadata": {
        "colab": {
          "base_uri": "https://localhost:8080/"
        },
        "id": "pFn_QCH89dYy",
        "outputId": "f3410ae6-caef-4f7f-efd7-d6b21ca22c26"
      },
      "execution_count": 12,
      "outputs": [
        {
          "output_type": "execute_result",
          "data": {
            "text/plain": [
              "[1, 2, 3, 4, 5]"
            ]
          },
          "metadata": {},
          "execution_count": 12
        }
      ]
    },
    {
      "cell_type": "code",
      "source": [
        "a_new_np_array = np.asarray(a_py_array) # python array to numpy array \n",
        "a_new_np_array"
      ],
      "metadata": {
        "colab": {
          "base_uri": "https://localhost:8080/"
        },
        "id": "U7yTuQS_-xUY",
        "outputId": "a85fb676-a367-48ad-e034-eaa5dbc339b6"
      },
      "execution_count": 13,
      "outputs": [
        {
          "output_type": "execute_result",
          "data": {
            "text/plain": [
              "array([ 6,  7,  8,  9, 10])"
            ]
          },
          "metadata": {},
          "execution_count": 13
        }
      ]
    },
    {
      "cell_type": "markdown",
      "source": [
        "**To be continued...**"
      ],
      "metadata": {
        "id": "iS7xNd7EKQJC"
      }
    },
    {
      "cell_type": "code",
      "source": [],
      "metadata": {
        "id": "gctWaOHj_CdM"
      },
      "execution_count": null,
      "outputs": []
    }
  ]
}
