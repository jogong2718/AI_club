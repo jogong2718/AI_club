{
  "nbformat": 4,
  "nbformat_minor": 0,
  "metadata": {
    "colab": {
      "provenance": [],
      "authorship_tag": "ABX9TyNq5D6w6feY8R8YJw25fu7o",
      "include_colab_link": true
    },
    "kernelspec": {
      "name": "python3",
      "display_name": "Python 3"
    },
    "language_info": {
      "name": "python"
    },
    "accelerator": "GPU",
    "gpuClass": "standard"
  },
  "cells": [
    {
      "cell_type": "markdown",
      "metadata": {
        "id": "view-in-github",
        "colab_type": "text"
      },
      "source": [
        "<a href=\"https://colab.research.google.com/github/jogong2718/AI_club/blob/main/Activity_1.ipynb\" target=\"_parent\"><img src=\"https://colab.research.google.com/assets/colab-badge.svg\" alt=\"Open In Colab\"/></a>"
      ]
    },
    {
      "cell_type": "markdown",
      "source": [
        "<font size = +5>Access Your Personal Google Account to access colab. You can create another chrome profile or use another web browser"
      ],
      "metadata": {
        "id": "8phKabmyWd94"
      }
    },
    {
      "cell_type": "markdown",
      "source": [
        "Libraries"
      ],
      "metadata": {
        "id": "gniaYkvv5RiI"
      }
    },
    {
      "cell_type": "code",
      "execution_count": 1,
      "metadata": {
        "id": "8WwnBBhZ4QYk"
      },
      "outputs": [],
      "source": [
        "import numpy as np\n",
        "import matplotlib.pyplot as plt"
      ]
    },
    {
      "cell_type": "markdown",
      "source": [
        "Importing Dataset"
      ],
      "metadata": {
        "id": "IJjwmNfM5TsG"
      }
    },
    {
      "cell_type": "code",
      "source": [
        "import tensorflow as tf\n",
        "mnist = tf.keras.datasets.mnist"
      ],
      "metadata": {
        "id": "BwIp_c3h4VrY"
      },
      "execution_count": 2,
      "outputs": []
    },
    {
      "cell_type": "code",
      "source": [
        "(training_images, training_labels), (test_images, test_labels) = mnist.load_data()"
      ],
      "metadata": {
        "id": "Ydpv_2ox4W64",
        "colab": {
          "base_uri": "https://localhost:8080/"
        },
        "outputId": "6cc1d3b2-9af2-4330-ec15-019995c3ecf1"
      },
      "execution_count": 3,
      "outputs": [
        {
          "output_type": "stream",
          "name": "stdout",
          "text": [
            "Downloading data from https://storage.googleapis.com/tensorflow/tf-keras-datasets/mnist.npz\n",
            "11490434/11490434 [==============================] - 1s 0us/step\n"
          ]
        }
      ]
    },
    {
      "cell_type": "markdown",
      "source": [
        "One-Hot-Encode"
      ],
      "metadata": {
        "id": "Nk7b669V5WUi"
      }
    },
    {
      "cell_type": "code",
      "source": [
        "trainingLabelsohe = tf.keras.utils.to_categorical(training_labels)\n",
        "testLabelsohe = tf.keras.utils.to_categorical(test_labels)"
      ],
      "metadata": {
        "id": "6cjmYv8y4YaH"
      },
      "execution_count": 4,
      "outputs": []
    },
    {
      "cell_type": "markdown",
      "source": [
        "#ACTIVITY: change the number of neurons in one layer and change the number of layers\n",
        "\n",
        "For example, here is a different model with different number of neurons\n",
        "\n",
        "```\n",
        "model = tf.keras.models.Sequential([\n",
        "tf.keras.layers.Flatten(), \n",
        "tf.keras.layers.Dense(8),\n",
        "tf.keras.layers.Dense(4),\n",
        "tf.keras.layers.Dense(2),\n",
        "tf.keras.layers.Dense(10, activation = \"softmax\")\n",
        "])\n",
        "```\n",
        "🙂"
      ],
      "metadata": {
        "id": "jJSTq8Y14o8z"
      }
    },
    {
      "cell_type": "code",
      "source": [
        "model = tf.keras.models.Sequential([\n",
        "tf.keras.layers.Flatten(), \n",
        "tf.keras.layers.Dense(9999),\n",
        "tf.keras.layers.Dense(9999),\n",
        "tf.keras.layers.Dense(9999),\n",
        "tf.keras.layers.Dense(10, activation = \"softmax\")\n",
        "])"
      ],
      "metadata": {
        "id": "-4Na3MlH4a4V"
      },
      "execution_count": 16,
      "outputs": []
    },
    {
      "cell_type": "markdown",
      "source": [
        "We have not yet gone over this, but run this cell to compile the model"
      ],
      "metadata": {
        "id": "Ripl9hgE5Y1m"
      }
    },
    {
      "cell_type": "code",
      "source": [
        "with tf.device('/device:GPU:0'):\n",
        "  model.compile(\n",
        "      optimizer = \"adam\",\n",
        "      loss = \"categorical_crossentropy\",\n",
        "      metrics = [\"accuracy\"]\n",
        "  )"
      ],
      "metadata": {
        "id": "vVicwQHy4etu"
      },
      "execution_count": 17,
      "outputs": []
    },
    {
      "cell_type": "markdown",
      "source": [
        "Run this cell to train the model. You can change the number of epochs to train the model longer. When the model is training, look at the val_accuracy. The val_accuracy is how accurate the model is, the higher the number the better the model. For example, a val_accuracy of $0.8956$ means an accuracy of $89.56\\%$."
      ],
      "metadata": {
        "id": "qf5Bk2Hq5tg7"
      }
    },
    {
      "cell_type": "code",
      "source": [
        "with tf.device('/device:GPU:0'):\n",
        "  history = model.fit(\n",
        "      training_images, trainingLabelsohe, \n",
        "      validation_data = (test_images, testLabelsohe),\n",
        "      epochs = 10,\n",
        "      batch_size = 40\n",
        "  )"
      ],
      "metadata": {
        "id": "HF4ORR2Q4gll",
        "colab": {
          "base_uri": "https://localhost:8080/"
        },
        "outputId": "4d9efd6e-2224-4699-a4ff-0f5a1d40f59f"
      },
      "execution_count": 19,
      "outputs": [
        {
          "output_type": "stream",
          "name": "stdout",
          "text": [
            "Epoch 1/10\n",
            "1500/1500 [==============================] - 88s 59ms/step - loss: 24.9891 - accuracy: 0.8394 - val_loss: 4.4734 - val_accuracy: 0.8476\n",
            "Epoch 2/10\n",
            "1500/1500 [==============================] - 89s 59ms/step - loss: 3.1168 - accuracy: 0.8349 - val_loss: 4.4519 - val_accuracy: 0.8087\n",
            "Epoch 3/10\n",
            "1500/1500 [==============================] - 88s 59ms/step - loss: 63988.1016 - accuracy: 0.7919 - val_loss: 1401.9447 - val_accuracy: 0.8674\n",
            "Epoch 4/10\n",
            "1500/1500 [==============================] - 88s 58ms/step - loss: 838.4055 - accuracy: 0.8490 - val_loss: 1013.5434 - val_accuracy: 0.8102\n",
            "Epoch 5/10\n",
            "1500/1500 [==============================] - 88s 58ms/step - loss: 1424.5651 - accuracy: 0.8321 - val_loss: 1189.5880 - val_accuracy: 0.8515\n",
            "Epoch 6/10\n",
            "1500/1500 [==============================] - 88s 59ms/step - loss: 519.0328 - accuracy: 0.8537 - val_loss: 347.7545 - val_accuracy: 0.8440\n",
            "Epoch 7/10\n",
            "1500/1500 [==============================] - 88s 58ms/step - loss: 186.7016 - accuracy: 0.8559 - val_loss: 53.3936 - val_accuracy: 0.8783\n",
            "Epoch 8/10\n",
            "1500/1500 [==============================] - 88s 58ms/step - loss: 40.2471 - accuracy: 0.8565 - val_loss: 22.2693 - val_accuracy: 0.8544\n",
            "Epoch 9/10\n",
            "1500/1500 [==============================] - 88s 58ms/step - loss: 83010.4062 - accuracy: 0.8156 - val_loss: 73844.3359 - val_accuracy: 0.8133\n",
            "Epoch 10/10\n",
            "1500/1500 [==============================] - 87s 58ms/step - loss: 6138.0112 - accuracy: 0.8535 - val_loss: 1340.8958 - val_accuracy: 0.8484\n"
          ]
        }
      ]
    },
    {
      "cell_type": "markdown",
      "source": [
        "Run this cell to plot the results of the model's training"
      ],
      "metadata": {
        "id": "4t6UUsVn6Jb6"
      }
    },
    {
      "cell_type": "code",
      "source": [
        "plt.figure(figsize=(20, 8))\n",
        "plt.subplot(1, 2, 1)\n",
        "plt.plot(history.history['loss'])\n",
        "plt.plot(history.history['val_loss'])\n",
        "plt.legend(['train_loss', 'val_loss',])\n",
        "plt.subplot(1, 2, 2)\n",
        "plt.plot(history.history['accuracy'])\n",
        "plt.plot(history.history['val_accuracy'])\n",
        "plt.legend(['train_accuracy', 'val_accuracy'])\n",
        "plt.show()"
      ],
      "metadata": {
        "id": "ytHweP3l4jLn",
        "colab": {
          "base_uri": "https://localhost:8080/",
          "height": 483
        },
        "outputId": "4aeb9880-4b56-412d-9365-3fd8866f7d6f"
      },
      "execution_count": 8,
      "outputs": [
        {
          "output_type": "display_data",
          "data": {
            "text/plain": [
              "<Figure size 1440x576 with 2 Axes>"
            ],
            "image/png": "[encoded data removed]"
          },
          "metadata": {
            "needs_background": "light"
          }
        }
      ]
    }
  ]
}
