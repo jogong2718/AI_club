{
  "cells": [
    {
      "cell_type": "markdown",
      "metadata": {
        "id": "view-in-github",
        "colab_type": "text"
      },
      "source": [
        "<a href=\"https://colab.research.google.com/github/jogong2718/AI_club/blob/main/Intro_to_Dropout.ipynb\" target=\"_parent\"><img src=\"https://colab.research.google.com/assets/colab-badge.svg\" alt=\"Open In Colab\"/></a>"
      ]
    },
    {
      "cell_type": "markdown",
      "metadata": {
        "id": "gniaYkvv5RiI"
      },
      "source": [
        "Libraries"
      ]
    },
    {
      "cell_type": "code",
      "execution_count": 1,
      "metadata": {
        "id": "8WwnBBhZ4QYk"
      },
      "outputs": [],
      "source": [
        "import numpy as np\n",
        "import matplotlib.pyplot as plt"
      ]
    },
    {
      "cell_type": "markdown",
      "metadata": {
        "id": "IJjwmNfM5TsG"
      },
      "source": [
        "Importing Dataset"
      ]
    },
    {
      "cell_type": "code",
      "execution_count": 2,
      "metadata": {
        "id": "BwIp_c3h4VrY"
      },
      "outputs": [],
      "source": [
        "import tensorflow as tf\n",
        "mnist = tf.keras.datasets.mnist"
      ]
    },
    {
      "cell_type": "code",
      "execution_count": 3,
      "metadata": {
        "colab": {
          "base_uri": "https://localhost:8080/"
        },
        "id": "Ydpv_2ox4W64",
        "outputId": "0ed9a13b-aaf1-4bdc-df63-800508bdd5e4"
      },
      "outputs": [
        {
          "output_type": "stream",
          "name": "stdout",
          "text": [
            "Downloading data from https://storage.googleapis.com/tensorflow/tf-keras-datasets/mnist.npz\n",
            "11490434/11490434 [==============================] - 2s 0us/step\n"
          ]
        }
      ],
      "source": [
        "(training_images, training_labels), (test_images, test_labels) = mnist.load_data()"
      ]
    },
    {
      "cell_type": "markdown",
      "metadata": {
        "id": "Nk7b669V5WUi"
      },
      "source": [
        "One-Hot-Encode"
      ]
    },
    {
      "cell_type": "code",
      "execution_count": 12,
      "metadata": {
        "id": "6cjmYv8y4YaH"
      },
      "outputs": [],
      "source": [
        "trainingLabelsohe = tf.keras.utils.to_categorical(training_labels)\n",
        "testLabelsohe = tf.keras.utils.to_categorical(test_labels)"
      ]
    },
    {
      "cell_type": "markdown",
      "metadata": {
        "id": "jJSTq8Y14o8z"
      },
      "source": [
        "#Dropout: This is a type of layer that has an interesting function. It is the main layer we use to counter [overfitting](https://en.wikipedia.org/wiki/Overfitting). \n",
        "\n",
        "We call the Dropout layer as follows\n",
        "\n",
        "```\n",
        "tf.keras.layers.Dropout(x)\n",
        "```\n",
        "\n",
        "x is a number between 0 and 1. Normally, one would use a number like 0.2. \n",
        "Dropout's function is that it essentially cancels out the function of some neurons of the layer before it.\n",
        "\n",
        "<img src=\"https://www.tech-quantum.com/wp-content/uploads/2018/11/1_iWQzxhVlvadk6VAJjsgXgg1.png\">\n",
        "\n",
        "This effectively makes the model smaller. We do this to essentially find the \"useless\" neurons that we don't want. This is to reduce the \"noise\".\n",
        "\n",
        "To use the dropout layer, we put one after a regular dense layer like so:\n",
        "\n",
        "```\n",
        "tf.keras.layers.Dense(32)\n",
        "tf.keras.layers.Dropout(0.2)\n",
        "```\n",
        "\n",
        "🙂"
      ]
    },
    {
      "cell_type": "code",
      "execution_count": 94,
      "metadata": {
        "id": "-4Na3MlH4a4V"
      },
      "outputs": [],
      "source": [
        "def run_model(len_layers, a_dense_list, a_dropout_list, drop):\n",
        "  model = tf.keras.models.Sequential()\n",
        "  model.add(tf.keras.layers.Flatten())\n",
        "  for i in range(len_layers):\n",
        "    model.add(tf.keras.layers.Dense(a_dense_list[i]))\n",
        "    if drop:\n",
        "      model.add(tf.keras.layers.Dropout(a_dropout_list[i]))\n",
        "  model.add(tf.keras.layers.Dense(10, activation = \"softmax\"))\n",
        "  return model"
      ]
    },
    {
      "cell_type": "markdown",
      "source": [
        "#Without Dropout"
      ],
      "metadata": {
        "id": "0FwdjK1jMTg9"
      }
    },
    {
      "cell_type": "code",
      "source": [
        "len_layers = 5\n",
        "a_dense_list = [256, 128, 64, 32, 16]\n",
        "a_dropout_list = [0.1, 0.1, 0.1, 0.1, 0.1]\n",
        "model = run_model(len_layers, a_dense_list, a_dropout_list, False)"
      ],
      "metadata": {
        "id": "9MaokG6-B1lO"
      },
      "execution_count": 80,
      "outputs": []
    },
    {
      "cell_type": "code",
      "source": [
        "model.summary()"
      ],
      "metadata": {
        "colab": {
          "base_uri": "https://localhost:8080/"
        },
        "id": "VDx-75OMBxAo",
        "outputId": "1903d1ba-c0c8-453c-c24e-e0033a1d1f9f"
      },
      "execution_count": 50,
      "outputs": [
        {
          "output_type": "stream",
          "name": "stdout",
          "text": [
            "Model: \"sequential_12\"\n",
            "_________________________________________________________________\n",
            " Layer (type)                Output Shape              Param #   \n",
            "=================================================================\n",
            " flatten_9 (Flatten)         (None, 784)               0         \n",
            "                                                                 \n",
            " dense_25 (Dense)            (None, 128)               100480    \n",
            "                                                                 \n",
            " dropout (Dropout)           (None, 128)               0         \n",
            "                                                                 \n",
            " dense_26 (Dense)            (None, 64)                8256      \n",
            "                                                                 \n",
            " dropout_1 (Dropout)         (None, 64)                0         \n",
            "                                                                 \n",
            " dense_27 (Dense)            (None, 32)                2080      \n",
            "                                                                 \n",
            " dropout_2 (Dropout)         (None, 32)                0         \n",
            "                                                                 \n",
            " dense_28 (Dense)            (None, 16)                528       \n",
            "                                                                 \n",
            " dropout_3 (Dropout)         (None, 16)                0         \n",
            "                                                                 \n",
            " dense_29 (Dense)            (None, 10)                170       \n",
            "                                                                 \n",
            "=================================================================\n",
            "Total params: 111,514\n",
            "Trainable params: 111,514\n",
            "Non-trainable params: 0\n",
            "_________________________________________________________________\n"
          ]
        }
      ]
    },
    {
      "cell_type": "markdown",
      "metadata": {
        "id": "Ripl9hgE5Y1m"
      },
      "source": [
        "We have not yet gone over this, but run this cell to compile the model"
      ]
    },
    {
      "cell_type": "code",
      "execution_count": 81,
      "metadata": {
        "id": "vVicwQHy4etu"
      },
      "outputs": [],
      "source": [
        "with tf.device('/device:GPU:0'):\n",
        "  model.compile(\n",
        "      optimizer = \"adam\",\n",
        "      loss = \"categorical_crossentropy\",\n",
        "      metrics = [\"accuracy\"]\n",
        "  )"
      ]
    },
    {
      "cell_type": "markdown",
      "metadata": {
        "id": "qf5Bk2Hq5tg7"
      },
      "source": [
        "Run this cell to train the model. You can change the number of epochs to train the model longer. When the model is training, look at the val_accuracy. The val_accuracy is how accurate the model is, the higher the number the better the model. For example, a val_accuracy of $0.8956$ means an accuracy of $89.56\\%$."
      ]
    },
    {
      "cell_type": "code",
      "execution_count": 82,
      "metadata": {
        "colab": {
          "base_uri": "https://localhost:8080/"
        },
        "id": "HF4ORR2Q4gll",
        "outputId": "c681f25b-fadf-49f2-f7dd-2681ad5cfe84"
      },
      "outputs": [
        {
          "output_type": "stream",
          "name": "stdout",
          "text": [
            "Epoch 1/100\n",
            "75/75 [==============================] - 2s 7ms/step - loss: 36.5048 - accuracy: 0.7947 - val_loss: 7.2628 - val_accuracy: 0.8890\n",
            "Epoch 2/100\n",
            "75/75 [==============================] - 0s 5ms/step - loss: 5.1893 - accuracy: 0.8881 - val_loss: 3.7609 - val_accuracy: 0.8930\n",
            "Epoch 3/100\n",
            "75/75 [==============================] - 0s 4ms/step - loss: 3.0821 - accuracy: 0.8879 - val_loss: 2.6762 - val_accuracy: 0.8904\n",
            "Epoch 4/100\n",
            "75/75 [==============================] - 0s 4ms/step - loss: 2.1664 - accuracy: 0.8903 - val_loss: 2.1003 - val_accuracy: 0.8845\n",
            "Epoch 5/100\n",
            "75/75 [==============================] - 0s 5ms/step - loss: 1.8114 - accuracy: 0.8863 - val_loss: 1.7297 - val_accuracy: 0.8922\n",
            "Epoch 6/100\n",
            "75/75 [==============================] - 0s 5ms/step - loss: 1.4170 - accuracy: 0.8906 - val_loss: 1.5651 - val_accuracy: 0.8824\n",
            "Epoch 7/100\n",
            "75/75 [==============================] - 0s 4ms/step - loss: 1.1673 - accuracy: 0.8907 - val_loss: 1.3016 - val_accuracy: 0.8800\n",
            "Epoch 8/100\n",
            "75/75 [==============================] - 0s 5ms/step - loss: 1.0639 - accuracy: 0.8887 - val_loss: 1.1209 - val_accuracy: 0.8852\n",
            "Epoch 9/100\n",
            "75/75 [==============================] - 0s 5ms/step - loss: 0.9320 - accuracy: 0.8919 - val_loss: 1.0339 - val_accuracy: 0.8910\n",
            "Epoch 10/100\n",
            "75/75 [==============================] - 0s 4ms/step - loss: 0.8425 - accuracy: 0.8913 - val_loss: 0.9629 - val_accuracy: 0.8896\n",
            "Epoch 11/100\n",
            "75/75 [==============================] - 0s 5ms/step - loss: 0.7438 - accuracy: 0.8942 - val_loss: 0.8380 - val_accuracy: 0.8888\n",
            "Epoch 12/100\n",
            "75/75 [==============================] - 0s 5ms/step - loss: 0.6878 - accuracy: 0.8942 - val_loss: 0.8283 - val_accuracy: 0.8869\n",
            "Epoch 13/100\n",
            "75/75 [==============================] - 0s 5ms/step - loss: 0.6429 - accuracy: 0.8962 - val_loss: 0.7437 - val_accuracy: 0.8938\n",
            "Epoch 14/100\n",
            "75/75 [==============================] - 0s 5ms/step - loss: 0.5981 - accuracy: 0.8971 - val_loss: 0.6817 - val_accuracy: 0.8933\n",
            "Epoch 15/100\n",
            "75/75 [==============================] - 0s 5ms/step - loss: 0.5870 - accuracy: 0.8957 - val_loss: 0.6444 - val_accuracy: 0.8971\n",
            "Epoch 16/100\n",
            "75/75 [==============================] - 0s 5ms/step - loss: 0.5237 - accuracy: 0.9011 - val_loss: 0.5934 - val_accuracy: 0.9022\n",
            "Epoch 17/100\n",
            "75/75 [==============================] - 0s 4ms/step - loss: 0.4901 - accuracy: 0.9014 - val_loss: 0.6021 - val_accuracy: 0.8903\n",
            "Epoch 18/100\n",
            "75/75 [==============================] - 0s 5ms/step - loss: 0.4900 - accuracy: 0.8988 - val_loss: 0.5641 - val_accuracy: 0.8989\n",
            "Epoch 19/100\n",
            "75/75 [==============================] - 0s 5ms/step - loss: 0.4658 - accuracy: 0.9042 - val_loss: 0.5194 - val_accuracy: 0.9004\n",
            "Epoch 20/100\n",
            "75/75 [==============================] - 0s 5ms/step - loss: 0.4555 - accuracy: 0.9014 - val_loss: 0.4923 - val_accuracy: 0.9027\n",
            "Epoch 21/100\n",
            "75/75 [==============================] - 0s 5ms/step - loss: 0.4171 - accuracy: 0.9044 - val_loss: 0.4942 - val_accuracy: 0.8962\n",
            "Epoch 22/100\n",
            "75/75 [==============================] - 0s 6ms/step - loss: 0.4171 - accuracy: 0.9046 - val_loss: 0.5037 - val_accuracy: 0.8962\n",
            "Epoch 23/100\n",
            "75/75 [==============================] - 1s 7ms/step - loss: 0.4078 - accuracy: 0.9059 - val_loss: 0.4973 - val_accuracy: 0.8963\n",
            "Epoch 24/100\n",
            "75/75 [==============================] - 0s 7ms/step - loss: 0.3887 - accuracy: 0.9067 - val_loss: 0.4676 - val_accuracy: 0.8980\n",
            "Epoch 25/100\n",
            "75/75 [==============================] - 0s 6ms/step - loss: 0.3909 - accuracy: 0.9058 - val_loss: 0.4711 - val_accuracy: 0.9014\n",
            "Epoch 26/100\n",
            "75/75 [==============================] - 0s 5ms/step - loss: 0.3782 - accuracy: 0.9079 - val_loss: 0.4466 - val_accuracy: 0.9013\n",
            "Epoch 27/100\n",
            "75/75 [==============================] - 0s 5ms/step - loss: 0.3652 - accuracy: 0.9099 - val_loss: 0.4019 - val_accuracy: 0.9074\n",
            "Epoch 28/100\n",
            "75/75 [==============================] - 0s 5ms/step - loss: 0.3643 - accuracy: 0.9087 - val_loss: 0.4058 - val_accuracy: 0.9089\n",
            "Epoch 29/100\n",
            "75/75 [==============================] - 0s 5ms/step - loss: 0.3539 - accuracy: 0.9109 - val_loss: 0.4123 - val_accuracy: 0.9107\n",
            "Epoch 30/100\n",
            "75/75 [==============================] - 0s 5ms/step - loss: 0.3405 - accuracy: 0.9133 - val_loss: 0.4010 - val_accuracy: 0.9087\n",
            "Epoch 31/100\n",
            "75/75 [==============================] - 0s 5ms/step - loss: 0.3445 - accuracy: 0.9110 - val_loss: 0.4056 - val_accuracy: 0.9080\n",
            "Epoch 32/100\n",
            "75/75 [==============================] - 0s 5ms/step - loss: 0.3512 - accuracy: 0.9096 - val_loss: 0.4065 - val_accuracy: 0.9093\n",
            "Epoch 33/100\n",
            "75/75 [==============================] - 0s 4ms/step - loss: 0.3337 - accuracy: 0.9125 - val_loss: 0.3913 - val_accuracy: 0.9032\n",
            "Epoch 34/100\n",
            "75/75 [==============================] - 0s 5ms/step - loss: 0.3332 - accuracy: 0.9130 - val_loss: 0.3778 - val_accuracy: 0.9094\n",
            "Epoch 35/100\n",
            "75/75 [==============================] - 0s 5ms/step - loss: 0.3299 - accuracy: 0.9132 - val_loss: 0.3950 - val_accuracy: 0.9062\n",
            "Epoch 36/100\n",
            "75/75 [==============================] - 0s 5ms/step - loss: 0.3212 - accuracy: 0.9149 - val_loss: 0.3747 - val_accuracy: 0.9113\n",
            "Epoch 37/100\n",
            "75/75 [==============================] - 0s 4ms/step - loss: 0.3168 - accuracy: 0.9154 - val_loss: 0.3615 - val_accuracy: 0.9121\n",
            "Epoch 38/100\n",
            "75/75 [==============================] - 0s 5ms/step - loss: 0.3208 - accuracy: 0.9156 - val_loss: 0.3602 - val_accuracy: 0.9100\n",
            "Epoch 39/100\n",
            "75/75 [==============================] - 0s 5ms/step - loss: 0.3133 - accuracy: 0.9157 - val_loss: 0.3846 - val_accuracy: 0.9063\n",
            "Epoch 40/100\n",
            "75/75 [==============================] - 0s 5ms/step - loss: 0.3194 - accuracy: 0.9148 - val_loss: 0.3768 - val_accuracy: 0.9077\n",
            "Epoch 41/100\n",
            "75/75 [==============================] - 0s 5ms/step - loss: 0.3107 - accuracy: 0.9155 - val_loss: 0.3792 - val_accuracy: 0.9105\n",
            "Epoch 42/100\n",
            "75/75 [==============================] - 0s 5ms/step - loss: 0.3175 - accuracy: 0.9140 - val_loss: 0.3811 - val_accuracy: 0.9119\n",
            "Epoch 43/100\n",
            "75/75 [==============================] - 0s 5ms/step - loss: 0.3099 - accuracy: 0.9158 - val_loss: 0.3714 - val_accuracy: 0.9074\n",
            "Epoch 44/100\n",
            "75/75 [==============================] - 0s 5ms/step - loss: 0.3035 - accuracy: 0.9168 - val_loss: 0.3596 - val_accuracy: 0.9117\n",
            "Epoch 45/100\n",
            "75/75 [==============================] - 0s 5ms/step - loss: 0.2975 - accuracy: 0.9194 - val_loss: 0.3510 - val_accuracy: 0.9127\n",
            "Epoch 46/100\n",
            "75/75 [==============================] - 0s 5ms/step - loss: 0.2949 - accuracy: 0.9188 - val_loss: 0.3456 - val_accuracy: 0.9156\n",
            "Epoch 47/100\n",
            "75/75 [==============================] - 0s 4ms/step - loss: 0.2953 - accuracy: 0.9186 - val_loss: 0.3642 - val_accuracy: 0.9088\n",
            "Epoch 48/100\n",
            "75/75 [==============================] - 0s 4ms/step - loss: 0.3020 - accuracy: 0.9166 - val_loss: 0.3598 - val_accuracy: 0.9104\n",
            "Epoch 49/100\n",
            "75/75 [==============================] - 0s 5ms/step - loss: 0.2923 - accuracy: 0.9195 - val_loss: 0.3547 - val_accuracy: 0.9129\n",
            "Epoch 50/100\n",
            "75/75 [==============================] - 0s 5ms/step - loss: 0.2895 - accuracy: 0.9201 - val_loss: 0.3378 - val_accuracy: 0.9140\n",
            "Epoch 51/100\n",
            "75/75 [==============================] - 0s 5ms/step - loss: 0.2883 - accuracy: 0.9198 - val_loss: 0.3448 - val_accuracy: 0.9127\n",
            "Epoch 52/100\n",
            "75/75 [==============================] - 0s 4ms/step - loss: 0.2873 - accuracy: 0.9210 - val_loss: 0.3557 - val_accuracy: 0.9096\n",
            "Epoch 53/100\n",
            "75/75 [==============================] - 0s 6ms/step - loss: 0.2873 - accuracy: 0.9201 - val_loss: 0.3356 - val_accuracy: 0.9140\n",
            "Epoch 54/100\n",
            "75/75 [==============================] - 1s 7ms/step - loss: 0.2833 - accuracy: 0.9208 - val_loss: 0.3496 - val_accuracy: 0.9114\n",
            "Epoch 55/100\n",
            "75/75 [==============================] - 1s 7ms/step - loss: 0.2865 - accuracy: 0.9206 - val_loss: 0.3331 - val_accuracy: 0.9145\n",
            "Epoch 56/100\n",
            "75/75 [==============================] - 0s 6ms/step - loss: 0.2830 - accuracy: 0.9201 - val_loss: 0.3320 - val_accuracy: 0.9159\n",
            "Epoch 57/100\n",
            "75/75 [==============================] - 0s 5ms/step - loss: 0.2843 - accuracy: 0.9204 - val_loss: 0.3311 - val_accuracy: 0.9132\n",
            "Epoch 58/100\n",
            "75/75 [==============================] - 0s 5ms/step - loss: 0.2834 - accuracy: 0.9212 - val_loss: 0.3452 - val_accuracy: 0.9156\n",
            "Epoch 59/100\n",
            "75/75 [==============================] - 0s 5ms/step - loss: 0.2830 - accuracy: 0.9213 - val_loss: 0.3346 - val_accuracy: 0.9158\n",
            "Epoch 60/100\n",
            "75/75 [==============================] - 0s 5ms/step - loss: 0.2785 - accuracy: 0.9214 - val_loss: 0.3405 - val_accuracy: 0.9139\n",
            "Epoch 61/100\n",
            "75/75 [==============================] - 0s 5ms/step - loss: 0.2767 - accuracy: 0.9227 - val_loss: 0.3262 - val_accuracy: 0.9169\n",
            "Epoch 62/100\n",
            "75/75 [==============================] - 0s 5ms/step - loss: 0.2733 - accuracy: 0.9230 - val_loss: 0.3240 - val_accuracy: 0.9187\n",
            "Epoch 63/100\n",
            "75/75 [==============================] - 0s 5ms/step - loss: 0.2770 - accuracy: 0.9220 - val_loss: 0.3301 - val_accuracy: 0.9158\n",
            "Epoch 64/100\n",
            "75/75 [==============================] - 0s 5ms/step - loss: 0.2740 - accuracy: 0.9239 - val_loss: 0.3373 - val_accuracy: 0.9140\n",
            "Epoch 65/100\n",
            "75/75 [==============================] - 0s 5ms/step - loss: 0.2749 - accuracy: 0.9226 - val_loss: 0.3235 - val_accuracy: 0.9153\n",
            "Epoch 66/100\n",
            "75/75 [==============================] - 0s 5ms/step - loss: 0.2755 - accuracy: 0.9225 - val_loss: 0.3329 - val_accuracy: 0.9139\n",
            "Epoch 67/100\n",
            "75/75 [==============================] - 0s 5ms/step - loss: 0.2770 - accuracy: 0.9220 - val_loss: 0.3319 - val_accuracy: 0.9143\n",
            "Epoch 68/100\n",
            "75/75 [==============================] - 0s 5ms/step - loss: 0.2734 - accuracy: 0.9221 - val_loss: 0.3316 - val_accuracy: 0.9142\n",
            "Epoch 69/100\n",
            "75/75 [==============================] - 0s 4ms/step - loss: 0.2760 - accuracy: 0.9227 - val_loss: 0.3235 - val_accuracy: 0.9158\n",
            "Epoch 70/100\n",
            "75/75 [==============================] - 0s 5ms/step - loss: 0.2754 - accuracy: 0.9233 - val_loss: 0.3147 - val_accuracy: 0.9151\n",
            "Epoch 71/100\n",
            "75/75 [==============================] - 0s 4ms/step - loss: 0.2726 - accuracy: 0.9226 - val_loss: 0.3248 - val_accuracy: 0.9169\n",
            "Epoch 72/100\n",
            "75/75 [==============================] - 0s 5ms/step - loss: 0.2671 - accuracy: 0.9248 - val_loss: 0.3236 - val_accuracy: 0.9155\n",
            "Epoch 73/100\n",
            "75/75 [==============================] - 0s 5ms/step - loss: 0.2695 - accuracy: 0.9247 - val_loss: 0.3270 - val_accuracy: 0.9165\n",
            "Epoch 74/100\n",
            "75/75 [==============================] - 0s 4ms/step - loss: 0.2740 - accuracy: 0.9231 - val_loss: 0.3272 - val_accuracy: 0.9160\n",
            "Epoch 75/100\n",
            "75/75 [==============================] - 0s 5ms/step - loss: 0.2734 - accuracy: 0.9232 - val_loss: 0.3315 - val_accuracy: 0.9124\n",
            "Epoch 76/100\n",
            "75/75 [==============================] - 0s 5ms/step - loss: 0.2735 - accuracy: 0.9228 - val_loss: 0.3201 - val_accuracy: 0.9184\n",
            "Epoch 77/100\n",
            "75/75 [==============================] - 0s 5ms/step - loss: 0.2685 - accuracy: 0.9240 - val_loss: 0.3216 - val_accuracy: 0.9187\n",
            "Epoch 78/100\n",
            "75/75 [==============================] - 0s 5ms/step - loss: 0.2651 - accuracy: 0.9267 - val_loss: 0.3136 - val_accuracy: 0.9177\n",
            "Epoch 79/100\n",
            "75/75 [==============================] - 0s 4ms/step - loss: 0.2694 - accuracy: 0.9238 - val_loss: 0.3179 - val_accuracy: 0.9195\n",
            "Epoch 80/100\n",
            "75/75 [==============================] - 0s 5ms/step - loss: 0.2734 - accuracy: 0.9233 - val_loss: 0.3279 - val_accuracy: 0.9139\n",
            "Epoch 81/100\n",
            "75/75 [==============================] - 0s 5ms/step - loss: 0.2751 - accuracy: 0.9225 - val_loss: 0.3144 - val_accuracy: 0.9186\n",
            "Epoch 82/100\n",
            "75/75 [==============================] - 0s 5ms/step - loss: 0.2675 - accuracy: 0.9245 - val_loss: 0.3181 - val_accuracy: 0.9175\n",
            "Epoch 83/100\n",
            "75/75 [==============================] - 1s 7ms/step - loss: 0.2685 - accuracy: 0.9241 - val_loss: 0.3254 - val_accuracy: 0.9137\n",
            "Epoch 84/100\n",
            "75/75 [==============================] - 0s 7ms/step - loss: 0.2687 - accuracy: 0.9236 - val_loss: 0.3162 - val_accuracy: 0.9182\n",
            "Epoch 85/100\n",
            "75/75 [==============================] - 0s 7ms/step - loss: 0.2665 - accuracy: 0.9254 - val_loss: 0.3219 - val_accuracy: 0.9180\n",
            "Epoch 86/100\n",
            "75/75 [==============================] - 0s 5ms/step - loss: 0.2732 - accuracy: 0.9225 - val_loss: 0.3108 - val_accuracy: 0.9174\n",
            "Epoch 87/100\n",
            "75/75 [==============================] - 0s 5ms/step - loss: 0.2650 - accuracy: 0.9259 - val_loss: 0.3118 - val_accuracy: 0.9179\n",
            "Epoch 88/100\n",
            "75/75 [==============================] - 0s 5ms/step - loss: 0.2664 - accuracy: 0.9242 - val_loss: 0.3312 - val_accuracy: 0.9094\n",
            "Epoch 89/100\n",
            "75/75 [==============================] - 0s 4ms/step - loss: 0.2679 - accuracy: 0.9236 - val_loss: 0.3162 - val_accuracy: 0.9197\n",
            "Epoch 90/100\n",
            "75/75 [==============================] - 0s 5ms/step - loss: 0.2645 - accuracy: 0.9251 - val_loss: 0.3207 - val_accuracy: 0.9142\n",
            "Epoch 91/100\n",
            "75/75 [==============================] - 0s 5ms/step - loss: 0.2696 - accuracy: 0.9237 - val_loss: 0.3416 - val_accuracy: 0.9130\n",
            "Epoch 92/100\n",
            "75/75 [==============================] - 0s 5ms/step - loss: 0.2709 - accuracy: 0.9224 - val_loss: 0.3243 - val_accuracy: 0.9116\n",
            "Epoch 93/100\n",
            "75/75 [==============================] - 0s 5ms/step - loss: 0.2672 - accuracy: 0.9243 - val_loss: 0.3084 - val_accuracy: 0.9191\n",
            "Epoch 94/100\n",
            "75/75 [==============================] - 0s 5ms/step - loss: 0.2681 - accuracy: 0.9245 - val_loss: 0.3167 - val_accuracy: 0.9172\n",
            "Epoch 95/100\n",
            "75/75 [==============================] - 0s 5ms/step - loss: 0.2697 - accuracy: 0.9232 - val_loss: 0.3387 - val_accuracy: 0.9109\n",
            "Epoch 96/100\n",
            "75/75 [==============================] - 0s 5ms/step - loss: 0.2686 - accuracy: 0.9237 - val_loss: 0.3159 - val_accuracy: 0.9177\n",
            "Epoch 97/100\n",
            "75/75 [==============================] - 0s 5ms/step - loss: 0.2650 - accuracy: 0.9250 - val_loss: 0.3178 - val_accuracy: 0.9187\n",
            "Epoch 98/100\n",
            "75/75 [==============================] - 0s 5ms/step - loss: 0.2679 - accuracy: 0.9236 - val_loss: 0.3078 - val_accuracy: 0.9191\n",
            "Epoch 99/100\n",
            "75/75 [==============================] - 0s 5ms/step - loss: 0.2596 - accuracy: 0.9273 - val_loss: 0.3254 - val_accuracy: 0.9135\n",
            "Epoch 100/100\n",
            "75/75 [==============================] - 0s 5ms/step - loss: 0.2654 - accuracy: 0.9236 - val_loss: 0.3209 - val_accuracy: 0.9179\n"
          ]
        }
      ],
      "source": [
        "with tf.device('/device:GPU:0'):\n",
        "  history = model.fit(\n",
        "      training_images, trainingLabelsohe, \n",
        "      validation_data = (test_images, testLabelsohe),\n",
        "      epochs = 100,\n",
        "      batch_size = 800\n",
        "  )"
      ]
    },
    {
      "cell_type": "code",
      "execution_count": 83,
      "metadata": {
        "colab": {
          "base_uri": "https://localhost:8080/"
        },
        "id": "YovmvRENlqOe",
        "outputId": "fcb0edd1-2148-4294-e29f-d44cc5cc0375"
      },
      "outputs": [
        {
          "output_type": "stream",
          "name": "stdout",
          "text": [
            "0.919700026512146\n"
          ]
        }
      ],
      "source": [
        "print(max(history.history[\"val_accuracy\"]))"
      ]
    },
    {
      "cell_type": "markdown",
      "metadata": {
        "id": "4t6UUsVn6Jb6"
      },
      "source": [
        "Run this cell to plot the results of the model's training"
      ]
    },
    {
      "cell_type": "code",
      "execution_count": 84,
      "metadata": {
        "id": "ytHweP3l4jLn",
        "colab": {
          "base_uri": "https://localhost:8080/",
          "height": 483
        },
        "outputId": "cf7cec75-ff83-451b-fe5d-78db33aed2ba"
      },
      "outputs": [
        {
          "output_type": "display_data",
          "data": {
            "text/plain": [
              "<Figure size 1440x576 with 2 Axes>"
            ],
            "image/png": "[encoded data removed]"
          },
          "metadata": {
            "needs_background": "light"
          }
        }
      ],
      "source": [
        "plt.figure(figsize=(20, 8))\n",
        "plt.subplot(1, 2, 1)\n",
        "plt.plot(history.history['loss'])\n",
        "plt.plot(history.history['val_loss'])\n",
        "plt.legend(['train_loss', 'val_loss',])\n",
        "plt.subplot(1, 2, 2)\n",
        "plt.plot(history.history['accuracy'])\n",
        "plt.plot(history.history['val_accuracy'])\n",
        "plt.legend(['train_accuracy', 'val_accuracy'])\n",
        "plt.show()"
      ]
    },
    {
      "cell_type": "markdown",
      "source": [
        "#With Dropout"
      ],
      "metadata": {
        "id": "JfSHQZmZMPBt"
      }
    },
    {
      "cell_type": "code",
      "source": [
        "len_layers = 5\n",
        "a_dense_list = [256, 128, 64, 32, 16]\n",
        "a_dropout_list = [0.1, 0.1, 0.1, 0.1, 0.1]\n",
        "model_with_dropout = run_model(len_layers, a_dense_list, a_dropout_list, True)"
      ],
      "metadata": {
        "id": "gcDWjB3eL43g"
      },
      "execution_count": 95,
      "outputs": []
    },
    {
      "cell_type": "code",
      "source": [
        "with tf.device('/device:GPU:0'):\n",
        "  model_with_dropout.compile(\n",
        "      optimizer = \"adam\",\n",
        "      loss = \"categorical_crossentropy\",\n",
        "      metrics = [\"accuracy\"]\n",
        "  )"
      ],
      "metadata": {
        "id": "1wVdxHGKMBXo"
      },
      "execution_count": 96,
      "outputs": []
    },
    {
      "cell_type": "code",
      "source": [
        "with tf.device('/device:GPU:0'):\n",
        "  history1 = model_with_dropout.fit(\n",
        "      training_images, trainingLabelsohe, \n",
        "      validation_data = (test_images, testLabelsohe),\n",
        "      epochs = 100,\n",
        "      batch_size = 800\n",
        "  )"
      ],
      "metadata": {
        "colab": {
          "base_uri": "https://localhost:8080/"
        },
        "id": "w4LlOspFMFnO",
        "outputId": "5ab97b1d-859e-4407-f0ee-a34877a5bf2b"
      },
      "execution_count": 98,
      "outputs": [
        {
          "output_type": "stream",
          "name": "stdout",
          "text": [
            "Epoch 1/100\n",
            "75/75 [==============================] - 7s 8ms/step - loss: 67.6113 - accuracy: 0.6678 - val_loss: 9.7293 - val_accuracy: 0.8809\n",
            "Epoch 2/100\n",
            "75/75 [==============================] - 0s 5ms/step - loss: 19.4444 - accuracy: 0.7559 - val_loss: 5.9250 - val_accuracy: 0.8920\n",
            "Epoch 3/100\n",
            "75/75 [==============================] - 0s 5ms/step - loss: 13.2121 - accuracy: 0.7658 - val_loss: 4.3700 - val_accuracy: 0.8963\n",
            "Epoch 4/100\n",
            "75/75 [==============================] - 0s 5ms/step - loss: 10.0180 - accuracy: 0.7715 - val_loss: 3.3941 - val_accuracy: 0.9029\n",
            "Epoch 5/100\n",
            "75/75 [==============================] - 0s 5ms/step - loss: 7.9076 - accuracy: 0.7757 - val_loss: 2.6904 - val_accuracy: 0.9017\n",
            "Epoch 6/100\n",
            "75/75 [==============================] - 0s 5ms/step - loss: 6.4207 - accuracy: 0.7770 - val_loss: 2.2272 - val_accuracy: 0.9028\n",
            "Epoch 7/100\n",
            "75/75 [==============================] - 0s 5ms/step - loss: 5.3551 - accuracy: 0.7796 - val_loss: 1.8554 - val_accuracy: 0.9056\n",
            "Epoch 8/100\n",
            "75/75 [==============================] - 0s 5ms/step - loss: 4.5143 - accuracy: 0.7805 - val_loss: 1.5989 - val_accuracy: 0.9043\n",
            "Epoch 9/100\n",
            "75/75 [==============================] - 0s 5ms/step - loss: 3.8734 - accuracy: 0.7807 - val_loss: 1.3880 - val_accuracy: 0.9072\n",
            "Epoch 10/100\n",
            "75/75 [==============================] - 0s 6ms/step - loss: 3.3451 - accuracy: 0.7819 - val_loss: 1.1790 - val_accuracy: 0.9043\n",
            "Epoch 11/100\n",
            "75/75 [==============================] - 1s 9ms/step - loss: 2.9035 - accuracy: 0.7863 - val_loss: 1.0295 - val_accuracy: 0.9086\n",
            "Epoch 12/100\n",
            "75/75 [==============================] - 1s 7ms/step - loss: 2.5965 - accuracy: 0.7872 - val_loss: 0.9270 - val_accuracy: 0.9099\n",
            "Epoch 13/100\n",
            "75/75 [==============================] - 0s 5ms/step - loss: 2.2763 - accuracy: 0.7880 - val_loss: 0.8367 - val_accuracy: 0.9072\n",
            "Epoch 14/100\n",
            "75/75 [==============================] - 0s 5ms/step - loss: 2.0660 - accuracy: 0.7877 - val_loss: 0.7666 - val_accuracy: 0.9089\n",
            "Epoch 15/100\n",
            "75/75 [==============================] - 0s 5ms/step - loss: 1.8575 - accuracy: 0.7900 - val_loss: 0.6860 - val_accuracy: 0.9088\n",
            "Epoch 16/100\n",
            "75/75 [==============================] - 0s 5ms/step - loss: 1.6722 - accuracy: 0.7926 - val_loss: 0.6301 - val_accuracy: 0.9102\n",
            "Epoch 17/100\n",
            "75/75 [==============================] - 0s 5ms/step - loss: 1.5213 - accuracy: 0.7944 - val_loss: 0.5722 - val_accuracy: 0.9114\n",
            "Epoch 18/100\n",
            "75/75 [==============================] - 0s 5ms/step - loss: 1.4159 - accuracy: 0.7928 - val_loss: 0.5286 - val_accuracy: 0.9117\n",
            "Epoch 19/100\n",
            "75/75 [==============================] - 0s 4ms/step - loss: 1.3098 - accuracy: 0.7942 - val_loss: 0.5003 - val_accuracy: 0.9101\n",
            "Epoch 20/100\n",
            "75/75 [==============================] - 0s 5ms/step - loss: 1.2025 - accuracy: 0.7960 - val_loss: 0.4699 - val_accuracy: 0.9102\n",
            "Epoch 21/100\n",
            "75/75 [==============================] - 0s 5ms/step - loss: 1.1292 - accuracy: 0.7982 - val_loss: 0.4506 - val_accuracy: 0.9107\n",
            "Epoch 22/100\n",
            "75/75 [==============================] - 0s 5ms/step - loss: 1.0470 - accuracy: 0.7997 - val_loss: 0.4235 - val_accuracy: 0.9112\n",
            "Epoch 23/100\n",
            "75/75 [==============================] - 0s 5ms/step - loss: 0.9811 - accuracy: 0.8003 - val_loss: 0.4071 - val_accuracy: 0.9121\n",
            "Epoch 24/100\n",
            "75/75 [==============================] - 0s 5ms/step - loss: 0.9169 - accuracy: 0.8059 - val_loss: 0.3855 - val_accuracy: 0.9136\n",
            "Epoch 25/100\n",
            "75/75 [==============================] - 0s 5ms/step - loss: 0.8700 - accuracy: 0.8073 - val_loss: 0.3762 - val_accuracy: 0.9146\n",
            "Epoch 26/100\n",
            "75/75 [==============================] - 0s 5ms/step - loss: 0.8249 - accuracy: 0.8126 - val_loss: 0.3662 - val_accuracy: 0.9119\n",
            "Epoch 27/100\n",
            "75/75 [==============================] - 0s 5ms/step - loss: 0.7766 - accuracy: 0.8155 - val_loss: 0.3632 - val_accuracy: 0.9132\n",
            "Epoch 28/100\n",
            "75/75 [==============================] - 0s 5ms/step - loss: 0.7623 - accuracy: 0.8166 - val_loss: 0.3548 - val_accuracy: 0.9129\n",
            "Epoch 29/100\n",
            "75/75 [==============================] - 0s 5ms/step - loss: 0.7241 - accuracy: 0.8197 - val_loss: 0.3438 - val_accuracy: 0.9148\n",
            "Epoch 30/100\n",
            "75/75 [==============================] - 0s 5ms/step - loss: 0.7035 - accuracy: 0.8212 - val_loss: 0.3410 - val_accuracy: 0.9139\n",
            "Epoch 31/100\n",
            "75/75 [==============================] - 0s 5ms/step - loss: 0.6729 - accuracy: 0.8235 - val_loss: 0.3357 - val_accuracy: 0.9115\n",
            "Epoch 32/100\n",
            "75/75 [==============================] - 0s 5ms/step - loss: 0.6492 - accuracy: 0.8265 - val_loss: 0.3313 - val_accuracy: 0.9147\n",
            "Epoch 33/100\n",
            "75/75 [==============================] - 0s 5ms/step - loss: 0.6349 - accuracy: 0.8305 - val_loss: 0.3289 - val_accuracy: 0.9162\n",
            "Epoch 34/100\n",
            "75/75 [==============================] - 0s 5ms/step - loss: 0.6144 - accuracy: 0.8338 - val_loss: 0.3260 - val_accuracy: 0.9162\n",
            "Epoch 35/100\n",
            "75/75 [==============================] - 0s 5ms/step - loss: 0.5994 - accuracy: 0.8348 - val_loss: 0.3267 - val_accuracy: 0.9120\n",
            "Epoch 36/100\n",
            "75/75 [==============================] - 0s 5ms/step - loss: 0.5887 - accuracy: 0.8364 - val_loss: 0.3179 - val_accuracy: 0.9149\n",
            "Epoch 37/100\n",
            "75/75 [==============================] - 0s 5ms/step - loss: 0.5698 - accuracy: 0.8404 - val_loss: 0.3178 - val_accuracy: 0.9153\n",
            "Epoch 38/100\n",
            "75/75 [==============================] - 0s 5ms/step - loss: 0.5605 - accuracy: 0.8424 - val_loss: 0.3168 - val_accuracy: 0.9158\n",
            "Epoch 39/100\n",
            "75/75 [==============================] - 1s 7ms/step - loss: 0.5539 - accuracy: 0.8447 - val_loss: 0.3146 - val_accuracy: 0.9144\n",
            "Epoch 40/100\n",
            "75/75 [==============================] - 1s 7ms/step - loss: 0.5375 - accuracy: 0.8471 - val_loss: 0.3091 - val_accuracy: 0.9161\n",
            "Epoch 41/100\n",
            "75/75 [==============================] - 1s 7ms/step - loss: 0.5240 - accuracy: 0.8504 - val_loss: 0.3080 - val_accuracy: 0.9153\n",
            "Epoch 42/100\n",
            "75/75 [==============================] - 0s 5ms/step - loss: 0.5180 - accuracy: 0.8521 - val_loss: 0.3118 - val_accuracy: 0.9160\n",
            "Epoch 43/100\n",
            "75/75 [==============================] - 0s 5ms/step - loss: 0.5056 - accuracy: 0.8545 - val_loss: 0.3103 - val_accuracy: 0.9168\n",
            "Epoch 44/100\n",
            "75/75 [==============================] - 0s 5ms/step - loss: 0.5035 - accuracy: 0.8530 - val_loss: 0.3096 - val_accuracy: 0.9151\n",
            "Epoch 45/100\n",
            "75/75 [==============================] - 0s 5ms/step - loss: 0.4910 - accuracy: 0.8579 - val_loss: 0.3063 - val_accuracy: 0.9158\n",
            "Epoch 46/100\n",
            "75/75 [==============================] - 0s 5ms/step - loss: 0.4927 - accuracy: 0.8569 - val_loss: 0.3045 - val_accuracy: 0.9160\n",
            "Epoch 47/100\n",
            "75/75 [==============================] - 0s 5ms/step - loss: 0.4772 - accuracy: 0.8604 - val_loss: 0.3045 - val_accuracy: 0.9172\n",
            "Epoch 48/100\n",
            "75/75 [==============================] - 0s 5ms/step - loss: 0.4768 - accuracy: 0.8609 - val_loss: 0.3000 - val_accuracy: 0.9182\n",
            "Epoch 49/100\n",
            "75/75 [==============================] - 0s 5ms/step - loss: 0.4687 - accuracy: 0.8635 - val_loss: 0.3061 - val_accuracy: 0.9165\n",
            "Epoch 50/100\n",
            "75/75 [==============================] - 0s 5ms/step - loss: 0.4581 - accuracy: 0.8665 - val_loss: 0.3044 - val_accuracy: 0.9170\n",
            "Epoch 51/100\n",
            "75/75 [==============================] - 0s 5ms/step - loss: 0.4533 - accuracy: 0.8675 - val_loss: 0.2993 - val_accuracy: 0.9194\n",
            "Epoch 52/100\n",
            "75/75 [==============================] - 0s 5ms/step - loss: 0.4512 - accuracy: 0.8679 - val_loss: 0.3002 - val_accuracy: 0.9182\n",
            "Epoch 53/100\n",
            "75/75 [==============================] - 0s 5ms/step - loss: 0.4454 - accuracy: 0.8698 - val_loss: 0.2989 - val_accuracy: 0.9190\n",
            "Epoch 54/100\n",
            "75/75 [==============================] - 0s 5ms/step - loss: 0.4379 - accuracy: 0.8715 - val_loss: 0.2976 - val_accuracy: 0.9177\n",
            "Epoch 55/100\n",
            "75/75 [==============================] - 0s 5ms/step - loss: 0.4374 - accuracy: 0.8713 - val_loss: 0.2965 - val_accuracy: 0.9193\n",
            "Epoch 56/100\n",
            "75/75 [==============================] - 0s 5ms/step - loss: 0.4327 - accuracy: 0.8721 - val_loss: 0.2986 - val_accuracy: 0.9191\n",
            "Epoch 57/100\n",
            "75/75 [==============================] - 0s 6ms/step - loss: 0.4323 - accuracy: 0.8742 - val_loss: 0.2986 - val_accuracy: 0.9164\n",
            "Epoch 58/100\n",
            "75/75 [==============================] - 0s 5ms/step - loss: 0.4293 - accuracy: 0.8746 - val_loss: 0.3005 - val_accuracy: 0.9171\n",
            "Epoch 59/100\n",
            "75/75 [==============================] - 0s 5ms/step - loss: 0.4216 - accuracy: 0.8763 - val_loss: 0.2979 - val_accuracy: 0.9184\n",
            "Epoch 60/100\n",
            "75/75 [==============================] - 0s 5ms/step - loss: 0.4167 - accuracy: 0.8776 - val_loss: 0.2990 - val_accuracy: 0.9175\n",
            "Epoch 61/100\n",
            "75/75 [==============================] - 0s 5ms/step - loss: 0.4170 - accuracy: 0.8788 - val_loss: 0.2972 - val_accuracy: 0.9192\n",
            "Epoch 62/100\n",
            "75/75 [==============================] - 0s 6ms/step - loss: 0.4071 - accuracy: 0.8806 - val_loss: 0.3022 - val_accuracy: 0.9176\n",
            "Epoch 63/100\n",
            "75/75 [==============================] - 0s 5ms/step - loss: 0.4077 - accuracy: 0.8809 - val_loss: 0.2973 - val_accuracy: 0.9190\n",
            "Epoch 64/100\n",
            "75/75 [==============================] - 0s 5ms/step - loss: 0.4031 - accuracy: 0.8814 - val_loss: 0.2967 - val_accuracy: 0.9172\n",
            "Epoch 65/100\n",
            "75/75 [==============================] - 0s 5ms/step - loss: 0.4002 - accuracy: 0.8842 - val_loss: 0.2986 - val_accuracy: 0.9194\n",
            "Epoch 66/100\n",
            "75/75 [==============================] - 0s 5ms/step - loss: 0.4022 - accuracy: 0.8828 - val_loss: 0.2979 - val_accuracy: 0.9194\n",
            "Epoch 67/100\n",
            "75/75 [==============================] - 0s 5ms/step - loss: 0.3981 - accuracy: 0.8844 - val_loss: 0.2989 - val_accuracy: 0.9183\n",
            "Epoch 68/100\n",
            "75/75 [==============================] - 0s 6ms/step - loss: 0.3966 - accuracy: 0.8850 - val_loss: 0.2988 - val_accuracy: 0.9173\n",
            "Epoch 69/100\n",
            "75/75 [==============================] - 1s 7ms/step - loss: 0.3937 - accuracy: 0.8856 - val_loss: 0.2947 - val_accuracy: 0.9206\n",
            "Epoch 70/100\n",
            "75/75 [==============================] - 1s 7ms/step - loss: 0.3916 - accuracy: 0.8854 - val_loss: 0.2963 - val_accuracy: 0.9176\n",
            "Epoch 71/100\n",
            "75/75 [==============================] - 0s 6ms/step - loss: 0.3865 - accuracy: 0.8880 - val_loss: 0.2944 - val_accuracy: 0.9201\n",
            "Epoch 72/100\n",
            "75/75 [==============================] - 0s 5ms/step - loss: 0.3871 - accuracy: 0.8876 - val_loss: 0.2947 - val_accuracy: 0.9188\n",
            "Epoch 73/100\n",
            "75/75 [==============================] - 0s 5ms/step - loss: 0.3813 - accuracy: 0.8893 - val_loss: 0.2947 - val_accuracy: 0.9195\n",
            "Epoch 74/100\n",
            "75/75 [==============================] - 0s 5ms/step - loss: 0.3841 - accuracy: 0.8901 - val_loss: 0.3015 - val_accuracy: 0.9164\n",
            "Epoch 75/100\n",
            "75/75 [==============================] - 0s 5ms/step - loss: 0.3826 - accuracy: 0.8882 - val_loss: 0.2922 - val_accuracy: 0.9192\n",
            "Epoch 76/100\n",
            "75/75 [==============================] - 0s 5ms/step - loss: 0.3754 - accuracy: 0.8912 - val_loss: 0.2986 - val_accuracy: 0.9179\n",
            "Epoch 77/100\n",
            "75/75 [==============================] - 0s 5ms/step - loss: 0.3746 - accuracy: 0.8910 - val_loss: 0.2941 - val_accuracy: 0.9184\n",
            "Epoch 78/100\n",
            "75/75 [==============================] - 0s 5ms/step - loss: 0.3750 - accuracy: 0.8907 - val_loss: 0.2935 - val_accuracy: 0.9189\n",
            "Epoch 79/100\n",
            "75/75 [==============================] - 0s 5ms/step - loss: 0.3710 - accuracy: 0.8915 - val_loss: 0.2964 - val_accuracy: 0.9192\n",
            "Epoch 80/100\n",
            "75/75 [==============================] - 0s 5ms/step - loss: 0.3722 - accuracy: 0.8933 - val_loss: 0.2935 - val_accuracy: 0.9179\n",
            "Epoch 81/100\n",
            "75/75 [==============================] - 0s 5ms/step - loss: 0.3700 - accuracy: 0.8926 - val_loss: 0.2943 - val_accuracy: 0.9199\n",
            "Epoch 82/100\n",
            "75/75 [==============================] - 0s 5ms/step - loss: 0.3651 - accuracy: 0.8938 - val_loss: 0.2908 - val_accuracy: 0.9211\n",
            "Epoch 83/100\n",
            "75/75 [==============================] - 0s 6ms/step - loss: 0.3662 - accuracy: 0.8934 - val_loss: 0.2935 - val_accuracy: 0.9190\n",
            "Epoch 84/100\n",
            "75/75 [==============================] - 0s 5ms/step - loss: 0.3673 - accuracy: 0.8927 - val_loss: 0.2956 - val_accuracy: 0.9183\n",
            "Epoch 85/100\n",
            "75/75 [==============================] - 0s 5ms/step - loss: 0.3675 - accuracy: 0.8934 - val_loss: 0.2933 - val_accuracy: 0.9187\n",
            "Epoch 86/100\n",
            "75/75 [==============================] - 0s 4ms/step - loss: 0.3625 - accuracy: 0.8945 - val_loss: 0.2976 - val_accuracy: 0.9186\n",
            "Epoch 87/100\n",
            "75/75 [==============================] - 0s 5ms/step - loss: 0.3633 - accuracy: 0.8942 - val_loss: 0.2922 - val_accuracy: 0.9190\n",
            "Epoch 88/100\n",
            "75/75 [==============================] - 0s 5ms/step - loss: 0.3602 - accuracy: 0.8959 - val_loss: 0.2911 - val_accuracy: 0.9195\n",
            "Epoch 89/100\n",
            "75/75 [==============================] - 0s 5ms/step - loss: 0.3610 - accuracy: 0.8963 - val_loss: 0.2961 - val_accuracy: 0.9173\n",
            "Epoch 90/100\n",
            "75/75 [==============================] - 0s 5ms/step - loss: 0.3554 - accuracy: 0.8971 - val_loss: 0.2982 - val_accuracy: 0.9183\n",
            "Epoch 91/100\n",
            "75/75 [==============================] - 0s 5ms/step - loss: 0.3552 - accuracy: 0.8983 - val_loss: 0.2939 - val_accuracy: 0.9191\n",
            "Epoch 92/100\n",
            "75/75 [==============================] - 0s 5ms/step - loss: 0.3579 - accuracy: 0.8974 - val_loss: 0.2941 - val_accuracy: 0.9187\n",
            "Epoch 93/100\n",
            "75/75 [==============================] - 0s 5ms/step - loss: 0.3538 - accuracy: 0.8980 - val_loss: 0.2888 - val_accuracy: 0.9198\n",
            "Epoch 94/100\n",
            "75/75 [==============================] - 0s 5ms/step - loss: 0.3556 - accuracy: 0.8978 - val_loss: 0.2948 - val_accuracy: 0.9196\n",
            "Epoch 95/100\n",
            "75/75 [==============================] - 0s 5ms/step - loss: 0.3562 - accuracy: 0.8968 - val_loss: 0.2987 - val_accuracy: 0.9165\n",
            "Epoch 96/100\n",
            "75/75 [==============================] - 0s 5ms/step - loss: 0.3516 - accuracy: 0.8993 - val_loss: 0.2954 - val_accuracy: 0.9180\n",
            "Epoch 97/100\n",
            "75/75 [==============================] - 0s 6ms/step - loss: 0.3507 - accuracy: 0.8989 - val_loss: 0.2951 - val_accuracy: 0.9197\n",
            "Epoch 98/100\n",
            "75/75 [==============================] - 1s 7ms/step - loss: 0.3546 - accuracy: 0.8982 - val_loss: 0.2917 - val_accuracy: 0.9189\n",
            "Epoch 99/100\n",
            "75/75 [==============================] - 1s 7ms/step - loss: 0.3483 - accuracy: 0.9000 - val_loss: 0.2890 - val_accuracy: 0.9198\n",
            "Epoch 100/100\n",
            "75/75 [==============================] - 0s 6ms/step - loss: 0.3518 - accuracy: 0.8988 - val_loss: 0.2955 - val_accuracy: 0.9177\n"
          ]
        }
      ]
    },
    {
      "cell_type": "code",
      "execution_count": 99,
      "metadata": {
        "colab": {
          "base_uri": "https://localhost:8080/"
        },
        "outputId": "9482ecd8-62ab-4ab7-a39a-1a9f95d1407f",
        "id": "lozgYp_uMIn6"
      },
      "outputs": [
        {
          "output_type": "stream",
          "name": "stdout",
          "text": [
            "0.9211000204086304\n"
          ]
        }
      ],
      "source": [
        "print(max(history1.history[\"val_accuracy\"]))"
      ]
    },
    {
      "cell_type": "markdown",
      "metadata": {
        "id": "HY4oiqkaMIn_"
      },
      "source": [
        "Run this cell to plot the results of the model's training"
      ]
    },
    {
      "cell_type": "code",
      "execution_count": 100,
      "metadata": {
        "colab": {
          "base_uri": "https://localhost:8080/",
          "height": 483
        },
        "outputId": "266ef5d5-be6a-49be-9210-aa8bf65bdcad",
        "id": "kqArBg4MMIoC"
      },
      "outputs": [
        {
          "output_type": "display_data",
          "data": {
            "text/plain": [
              "<Figure size 1440x576 with 2 Axes>"
            ],
            "image/png": "[encoded data removed]"
          },
          "metadata": {
            "needs_background": "light"
          }
        }
      ],
      "source": [
        "plt.figure(figsize=(20, 8))\n",
        "plt.subplot(1, 2, 1)\n",
        "plt.plot(history1.history['loss'])\n",
        "plt.plot(history1.history['val_loss'])\n",
        "plt.legend(['train_loss', 'val_loss',])\n",
        "plt.subplot(1, 2, 2)\n",
        "plt.plot(history1.history['accuracy'])\n",
        "plt.plot(history1.history['val_accuracy'])\n",
        "plt.legend(['train_accuracy', 'val_accuracy'])\n",
        "plt.show()"
      ]
    }
  ],
  "metadata": {
    "accelerator": "GPU",
    "colab": {
      "provenance": [],
      "authorship_tag": "ABX9TyOudcxNzvot7tV/qHFiXGO2",
      "include_colab_link": true
    },
    "gpuClass": "standard",
    "kernelspec": {
      "display_name": "Python 3",
      "name": "python3"
    },
    "language_info": {
      "name": "python"
    }
  },
  "nbformat": 4,
  "nbformat_minor": 0
}